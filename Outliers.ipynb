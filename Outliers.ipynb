{
 "cells": [
  {
   "cell_type": "markdown",
   "metadata": {},
   "source": [
    "---------------------------------------------------------------------------------------------------------------------------\n",
    "Removing the Outliers using Normal Distribution and Z-Score\n",
    "---------------------------------------------------------------------------------------------------------------------------"
   ]
  },
  {
   "cell_type": "code",
   "execution_count": 26,
   "metadata": {},
   "outputs": [],
   "source": [
    "import numpy as np\n",
    "import pandas as pd\n",
    "import matplotlib.pyplot as plt\n",
    "import seaborn as sns "
   ]
  },
  {
   "cell_type": "code",
   "execution_count": 27,
   "metadata": {},
   "outputs": [
    {
     "data": {
      "application/vnd.microsoft.datawrangler.viewer.v0+json": {
       "columns": [
        {
         "name": "index",
         "rawType": "int64",
         "type": "integer"
        },
        {
         "name": "semester_percentage",
         "rawType": "float64",
         "type": "float"
        },
        {
         "name": "scholarship_exam_marks",
         "rawType": "int64",
         "type": "integer"
        },
        {
         "name": "got_scholarship",
         "rawType": "int64",
         "type": "integer"
        }
       ],
       "conversionMethod": "pd.DataFrame",
       "ref": "73cb7216-9ef4-4708-9e15-cff0607f9b61",
       "rows": [
        [
         "0",
         "71.9",
         "26",
         "1"
        ],
        [
         "1",
         "74.6",
         "38",
         "1"
        ],
        [
         "2",
         "75.4",
         "40",
         "1"
        ],
        [
         "3",
         "64.2",
         "8",
         "1"
        ],
        [
         "4",
         "72.3",
         "17",
         "0"
        ],
        [
         "5",
         "73.0",
         "23",
         "1"
        ],
        [
         "6",
         "66.9",
         "11",
         "0"
        ],
        [
         "7",
         "71.2",
         "39",
         "1"
        ],
        [
         "8",
         "64.5",
         "38",
         "0"
        ],
        [
         "9",
         "77.5",
         "94",
         "1"
        ],
        [
         "10",
         "68.2",
         "16",
         "1"
        ],
        [
         "11",
         "63.8",
         "7",
         "1"
        ],
        [
         "12",
         "65.8",
         "16",
         "1"
        ],
        [
         "13",
         "56.8",
         "26",
         "0"
        ],
        [
         "14",
         "79.1",
         "43",
         "0"
        ],
        [
         "15",
         "71.0",
         "21",
         "0"
        ],
        [
         "16",
         "65.3",
         "19",
         "0"
        ],
        [
         "17",
         "75.6",
         "22",
         "1"
        ],
        [
         "18",
         "69.3",
         "27",
         "0"
        ],
        [
         "19",
         "76.3",
         "29",
         "0"
        ],
        [
         "20",
         "66.9",
         "47",
         "0"
        ],
        [
         "21",
         "74.3",
         "33",
         "1"
        ],
        [
         "22",
         "67.6",
         "54",
         "1"
        ],
        [
         "23",
         "60.5",
         "11",
         "0"
        ],
        [
         "24",
         "64.4",
         "11",
         "0"
        ],
        [
         "25",
         "62.8",
         "58",
         "1"
        ],
        [
         "26",
         "74.5",
         "8",
         "1"
        ],
        [
         "27",
         "65.3",
         "46",
         "0"
        ],
        [
         "28",
         "72.3",
         "19",
         "0"
        ],
        [
         "29",
         "65.1",
         "15",
         "1"
        ],
        [
         "30",
         "74.6",
         "16",
         "0"
        ],
        [
         "31",
         "76.6",
         "44",
         "0"
        ],
        [
         "32",
         "59.1",
         "11",
         "1"
        ],
        [
         "33",
         "62.3",
         "27",
         "0"
        ],
        [
         "34",
         "81.5",
         "9",
         "0"
        ],
        [
         "35",
         "74.8",
         "12",
         "0"
        ],
        [
         "36",
         "68.5",
         "16",
         "1"
        ],
        [
         "37",
         "85.1",
         "9",
         "1"
        ],
        [
         "38",
         "65.8",
         "20",
         "1"
        ],
        [
         "39",
         "72.5",
         "17",
         "0"
        ],
        [
         "40",
         "66.0",
         "86",
         "1"
        ],
        [
         "41",
         "67.0",
         "38",
         "0"
        ],
        [
         "42",
         "74.6",
         "71",
         "1"
        ],
        [
         "43",
         "78.5",
         "63",
         "0"
        ],
        [
         "44",
         "78.8",
         "55",
         "0"
        ],
        [
         "45",
         "69.2",
         "10",
         "1"
        ],
        [
         "46",
         "73.0",
         "15",
         "0"
        ],
        [
         "47",
         "69.2",
         "46",
         "0"
        ],
        [
         "48",
         "62.9",
         "42",
         "0"
        ],
        [
         "49",
         "82.3",
         "28",
         "1"
        ]
       ],
       "shape": {
        "columns": 3,
        "rows": 1000
       }
      },
      "text/html": [
       "<div>\n",
       "<style scoped>\n",
       "    .dataframe tbody tr th:only-of-type {\n",
       "        vertical-align: middle;\n",
       "    }\n",
       "\n",
       "    .dataframe tbody tr th {\n",
       "        vertical-align: top;\n",
       "    }\n",
       "\n",
       "    .dataframe thead th {\n",
       "        text-align: right;\n",
       "    }\n",
       "</style>\n",
       "<table border=\"1\" class=\"dataframe\">\n",
       "  <thead>\n",
       "    <tr style=\"text-align: right;\">\n",
       "      <th></th>\n",
       "      <th>semester_percentage</th>\n",
       "      <th>scholarship_exam_marks</th>\n",
       "      <th>got_scholarship</th>\n",
       "    </tr>\n",
       "  </thead>\n",
       "  <tbody>\n",
       "    <tr>\n",
       "      <th>0</th>\n",
       "      <td>71.9</td>\n",
       "      <td>26</td>\n",
       "      <td>1</td>\n",
       "    </tr>\n",
       "    <tr>\n",
       "      <th>1</th>\n",
       "      <td>74.6</td>\n",
       "      <td>38</td>\n",
       "      <td>1</td>\n",
       "    </tr>\n",
       "    <tr>\n",
       "      <th>2</th>\n",
       "      <td>75.4</td>\n",
       "      <td>40</td>\n",
       "      <td>1</td>\n",
       "    </tr>\n",
       "    <tr>\n",
       "      <th>3</th>\n",
       "      <td>64.2</td>\n",
       "      <td>8</td>\n",
       "      <td>1</td>\n",
       "    </tr>\n",
       "    <tr>\n",
       "      <th>4</th>\n",
       "      <td>72.3</td>\n",
       "      <td>17</td>\n",
       "      <td>0</td>\n",
       "    </tr>\n",
       "    <tr>\n",
       "      <th>...</th>\n",
       "      <td>...</td>\n",
       "      <td>...</td>\n",
       "      <td>...</td>\n",
       "    </tr>\n",
       "    <tr>\n",
       "      <th>995</th>\n",
       "      <td>88.7</td>\n",
       "      <td>44</td>\n",
       "      <td>1</td>\n",
       "    </tr>\n",
       "    <tr>\n",
       "      <th>996</th>\n",
       "      <td>91.2</td>\n",
       "      <td>65</td>\n",
       "      <td>1</td>\n",
       "    </tr>\n",
       "    <tr>\n",
       "      <th>997</th>\n",
       "      <td>48.9</td>\n",
       "      <td>34</td>\n",
       "      <td>0</td>\n",
       "    </tr>\n",
       "    <tr>\n",
       "      <th>998</th>\n",
       "      <td>86.2</td>\n",
       "      <td>46</td>\n",
       "      <td>1</td>\n",
       "    </tr>\n",
       "    <tr>\n",
       "      <th>999</th>\n",
       "      <td>49.0</td>\n",
       "      <td>10</td>\n",
       "      <td>1</td>\n",
       "    </tr>\n",
       "  </tbody>\n",
       "</table>\n",
       "<p>1000 rows × 3 columns</p>\n",
       "</div>"
      ],
      "text/plain": [
       "     semester_percentage  scholarship_exam_marks  got_scholarship\n",
       "0                   71.9                      26                1\n",
       "1                   74.6                      38                1\n",
       "2                   75.4                      40                1\n",
       "3                   64.2                       8                1\n",
       "4                   72.3                      17                0\n",
       "..                   ...                     ...              ...\n",
       "995                 88.7                      44                1\n",
       "996                 91.2                      65                1\n",
       "997                 48.9                      34                0\n",
       "998                 86.2                      46                1\n",
       "999                 49.0                      10                1\n",
       "\n",
       "[1000 rows x 3 columns]"
      ]
     },
     "execution_count": 27,
     "metadata": {},
     "output_type": "execute_result"
    }
   ],
   "source": [
    "data = pd.read_csv(\"scholarship.csv\")\n",
    "data"
   ]
  },
  {
   "cell_type": "code",
   "execution_count": 28,
   "metadata": {},
   "outputs": [
    {
     "data": {
      "application/vnd.microsoft.datawrangler.viewer.v0+json": {
       "columns": [
        {
         "name": "index",
         "rawType": "int64",
         "type": "integer"
        },
        {
         "name": "semester_percentage",
         "rawType": "float64",
         "type": "float"
        },
        {
         "name": "scholarship_exam_marks",
         "rawType": "int64",
         "type": "integer"
        },
        {
         "name": "got_scholarship",
         "rawType": "int64",
         "type": "integer"
        }
       ],
       "conversionMethod": "pd.DataFrame",
       "ref": "1244ff48-8b02-46f0-851d-f2117b12d215",
       "rows": [
        [
         "0",
         "71.9",
         "26",
         "1"
        ],
        [
         "1",
         "74.6",
         "38",
         "1"
        ],
        [
         "2",
         "75.4",
         "40",
         "1"
        ],
        [
         "3",
         "64.2",
         "8",
         "1"
        ],
        [
         "4",
         "72.3",
         "17",
         "0"
        ],
        [
         "5",
         "73.0",
         "23",
         "1"
        ],
        [
         "6",
         "66.9",
         "11",
         "0"
        ],
        [
         "7",
         "71.2",
         "39",
         "1"
        ],
        [
         "8",
         "64.5",
         "38",
         "0"
        ],
        [
         "9",
         "77.5",
         "94",
         "1"
        ],
        [
         "10",
         "68.2",
         "16",
         "1"
        ],
        [
         "11",
         "63.8",
         "7",
         "1"
        ],
        [
         "12",
         "65.8",
         "16",
         "1"
        ],
        [
         "13",
         "56.8",
         "26",
         "0"
        ],
        [
         "14",
         "79.1",
         "43",
         "0"
        ],
        [
         "15",
         "71.0",
         "21",
         "0"
        ],
        [
         "16",
         "65.3",
         "19",
         "0"
        ],
        [
         "17",
         "75.6",
         "22",
         "1"
        ],
        [
         "18",
         "69.3",
         "27",
         "0"
        ],
        [
         "19",
         "76.3",
         "29",
         "0"
        ],
        [
         "20",
         "66.9",
         "47",
         "0"
        ],
        [
         "21",
         "74.3",
         "33",
         "1"
        ],
        [
         "22",
         "67.6",
         "54",
         "1"
        ],
        [
         "23",
         "60.5",
         "11",
         "0"
        ],
        [
         "24",
         "64.4",
         "11",
         "0"
        ],
        [
         "25",
         "62.8",
         "58",
         "1"
        ],
        [
         "26",
         "74.5",
         "8",
         "1"
        ],
        [
         "27",
         "65.3",
         "46",
         "0"
        ],
        [
         "28",
         "72.3",
         "19",
         "0"
        ],
        [
         "29",
         "65.1",
         "15",
         "1"
        ],
        [
         "30",
         "74.6",
         "16",
         "0"
        ],
        [
         "31",
         "76.6",
         "44",
         "0"
        ],
        [
         "32",
         "59.1",
         "11",
         "1"
        ],
        [
         "33",
         "62.3",
         "27",
         "0"
        ],
        [
         "34",
         "81.5",
         "9",
         "0"
        ],
        [
         "35",
         "74.8",
         "12",
         "0"
        ],
        [
         "36",
         "68.5",
         "16",
         "1"
        ],
        [
         "37",
         "85.1",
         "9",
         "1"
        ],
        [
         "38",
         "65.8",
         "20",
         "1"
        ],
        [
         "39",
         "72.5",
         "17",
         "0"
        ],
        [
         "40",
         "66.0",
         "86",
         "1"
        ],
        [
         "41",
         "67.0",
         "38",
         "0"
        ],
        [
         "42",
         "74.6",
         "71",
         "1"
        ],
        [
         "43",
         "78.5",
         "63",
         "0"
        ],
        [
         "44",
         "78.8",
         "55",
         "0"
        ],
        [
         "45",
         "69.2",
         "10",
         "1"
        ],
        [
         "46",
         "73.0",
         "15",
         "0"
        ],
        [
         "47",
         "69.2",
         "46",
         "0"
        ],
        [
         "48",
         "62.9",
         "42",
         "0"
        ],
        [
         "49",
         "82.3",
         "28",
         "1"
        ]
       ],
       "shape": {
        "columns": 3,
        "rows": 1000
       }
      },
      "text/html": [
       "<div>\n",
       "<style scoped>\n",
       "    .dataframe tbody tr th:only-of-type {\n",
       "        vertical-align: middle;\n",
       "    }\n",
       "\n",
       "    .dataframe tbody tr th {\n",
       "        vertical-align: top;\n",
       "    }\n",
       "\n",
       "    .dataframe thead th {\n",
       "        text-align: right;\n",
       "    }\n",
       "</style>\n",
       "<table border=\"1\" class=\"dataframe\">\n",
       "  <thead>\n",
       "    <tr style=\"text-align: right;\">\n",
       "      <th></th>\n",
       "      <th>semester_percentage</th>\n",
       "      <th>scholarship_exam_marks</th>\n",
       "      <th>got_scholarship</th>\n",
       "    </tr>\n",
       "  </thead>\n",
       "  <tbody>\n",
       "    <tr>\n",
       "      <th>0</th>\n",
       "      <td>71.9</td>\n",
       "      <td>26</td>\n",
       "      <td>1</td>\n",
       "    </tr>\n",
       "    <tr>\n",
       "      <th>1</th>\n",
       "      <td>74.6</td>\n",
       "      <td>38</td>\n",
       "      <td>1</td>\n",
       "    </tr>\n",
       "    <tr>\n",
       "      <th>2</th>\n",
       "      <td>75.4</td>\n",
       "      <td>40</td>\n",
       "      <td>1</td>\n",
       "    </tr>\n",
       "    <tr>\n",
       "      <th>3</th>\n",
       "      <td>64.2</td>\n",
       "      <td>8</td>\n",
       "      <td>1</td>\n",
       "    </tr>\n",
       "    <tr>\n",
       "      <th>4</th>\n",
       "      <td>72.3</td>\n",
       "      <td>17</td>\n",
       "      <td>0</td>\n",
       "    </tr>\n",
       "    <tr>\n",
       "      <th>...</th>\n",
       "      <td>...</td>\n",
       "      <td>...</td>\n",
       "      <td>...</td>\n",
       "    </tr>\n",
       "    <tr>\n",
       "      <th>995</th>\n",
       "      <td>88.7</td>\n",
       "      <td>44</td>\n",
       "      <td>1</td>\n",
       "    </tr>\n",
       "    <tr>\n",
       "      <th>996</th>\n",
       "      <td>91.2</td>\n",
       "      <td>65</td>\n",
       "      <td>1</td>\n",
       "    </tr>\n",
       "    <tr>\n",
       "      <th>997</th>\n",
       "      <td>48.9</td>\n",
       "      <td>34</td>\n",
       "      <td>0</td>\n",
       "    </tr>\n",
       "    <tr>\n",
       "      <th>998</th>\n",
       "      <td>86.2</td>\n",
       "      <td>46</td>\n",
       "      <td>1</td>\n",
       "    </tr>\n",
       "    <tr>\n",
       "      <th>999</th>\n",
       "      <td>49.0</td>\n",
       "      <td>10</td>\n",
       "      <td>1</td>\n",
       "    </tr>\n",
       "  </tbody>\n",
       "</table>\n",
       "<p>1000 rows × 3 columns</p>\n",
       "</div>"
      ],
      "text/plain": [
       "     semester_percentage  scholarship_exam_marks  got_scholarship\n",
       "0                   71.9                      26                1\n",
       "1                   74.6                      38                1\n",
       "2                   75.4                      40                1\n",
       "3                   64.2                       8                1\n",
       "4                   72.3                      17                0\n",
       "..                   ...                     ...              ...\n",
       "995                 88.7                      44                1\n",
       "996                 91.2                      65                1\n",
       "997                 48.9                      34                0\n",
       "998                 86.2                      46                1\n",
       "999                 49.0                      10                1\n",
       "\n",
       "[1000 rows x 3 columns]"
      ]
     },
     "execution_count": 28,
     "metadata": {},
     "output_type": "execute_result"
    }
   ],
   "source": [
    "df = data.copy()\n",
    "df"
   ]
  },
  {
   "cell_type": "code",
   "execution_count": 29,
   "metadata": {},
   "outputs": [
    {
     "data": {
      "text/plain": [
       "(1000, 3)"
      ]
     },
     "execution_count": 29,
     "metadata": {},
     "output_type": "execute_result"
    }
   ],
   "source": [
    "df.shape"
   ]
  },
  {
   "cell_type": "code",
   "execution_count": 30,
   "metadata": {},
   "outputs": [
    {
     "data": {
      "image/png": "[encoded data removed]",
      "text/plain": [
       "<Figure size 640x480 with 2 Axes>"
      ]
     },
     "metadata": {},
     "output_type": "display_data"
    }
   ],
   "source": [
    "plt.subplot(1,2,1)  #(row 1, columns 2, 1st subplot)\n",
    "sns.histplot(df['semester_percentage'], kde = True)\n",
    "plt.subplot(1,2,2)  #(row 1, columns 2, 2nd subplot)\n",
    "sns.histplot(df[\"scholarship_exam_marks\"], kde = True)\n",
    "plt.show()"
   ]
  },
  {
   "cell_type": "code",
   "execution_count": 31,
   "metadata": {},
   "outputs": [],
   "source": [
    "mean = df['semester_percentage'].mean()\n",
    "sdt = df['semester_percentage'].std()"
   ]
  },
  {
   "cell_type": "code",
   "execution_count": 32,
   "metadata": {},
   "outputs": [
    {
     "name": "stdout",
     "output_type": "stream",
     "text": [
      "69.6124 , 6.158978751323897\n"
     ]
    }
   ],
   "source": [
    "print(mean, \",\" , sdt)"
   ]
  },
  {
   "cell_type": "code",
   "execution_count": 33,
   "metadata": {},
   "outputs": [
    {
     "name": "stdout",
     "output_type": "stream",
     "text": [
      "88.08933625397168 , 51.13546374602831\n"
     ]
    }
   ],
   "source": [
    "highest_allowed = mean  + 3*sdt \n",
    "lowest_allowed  = mean - 3*sdt\n",
    "print(highest_allowed, \",\", lowest_allowed)\n"
   ]
  },
  {
   "cell_type": "code",
   "execution_count": 34,
   "metadata": {},
   "outputs": [
    {
     "data": {
      "application/vnd.microsoft.datawrangler.viewer.v0+json": {
       "columns": [
        {
         "name": "index",
         "rawType": "int64",
         "type": "integer"
        },
        {
         "name": "semester_percentage",
         "rawType": "float64",
         "type": "float"
        },
        {
         "name": "scholarship_exam_marks",
         "rawType": "int64",
         "type": "integer"
        },
        {
         "name": "got_scholarship",
         "rawType": "int64",
         "type": "integer"
        }
       ],
       "conversionMethod": "pd.DataFrame",
       "ref": "985a1733-0491-4a53-a393-4603cfc5bc28",
       "rows": [
        [
         "485",
         "49.2",
         "44",
         "1"
        ],
        [
         "995",
         "88.7",
         "44",
         "1"
        ],
        [
         "996",
         "91.2",
         "65",
         "1"
        ],
        [
         "997",
         "48.9",
         "34",
         "0"
        ],
        [
         "999",
         "49.0",
         "10",
         "1"
        ]
       ],
       "shape": {
        "columns": 3,
        "rows": 5
       }
      },
      "text/html": [
       "<div>\n",
       "<style scoped>\n",
       "    .dataframe tbody tr th:only-of-type {\n",
       "        vertical-align: middle;\n",
       "    }\n",
       "\n",
       "    .dataframe tbody tr th {\n",
       "        vertical-align: top;\n",
       "    }\n",
       "\n",
       "    .dataframe thead th {\n",
       "        text-align: right;\n",
       "    }\n",
       "</style>\n",
       "<table border=\"1\" class=\"dataframe\">\n",
       "  <thead>\n",
       "    <tr style=\"text-align: right;\">\n",
       "      <th></th>\n",
       "      <th>semester_percentage</th>\n",
       "      <th>scholarship_exam_marks</th>\n",
       "      <th>got_scholarship</th>\n",
       "    </tr>\n",
       "  </thead>\n",
       "  <tbody>\n",
       "    <tr>\n",
       "      <th>485</th>\n",
       "      <td>49.2</td>\n",
       "      <td>44</td>\n",
       "      <td>1</td>\n",
       "    </tr>\n",
       "    <tr>\n",
       "      <th>995</th>\n",
       "      <td>88.7</td>\n",
       "      <td>44</td>\n",
       "      <td>1</td>\n",
       "    </tr>\n",
       "    <tr>\n",
       "      <th>996</th>\n",
       "      <td>91.2</td>\n",
       "      <td>65</td>\n",
       "      <td>1</td>\n",
       "    </tr>\n",
       "    <tr>\n",
       "      <th>997</th>\n",
       "      <td>48.9</td>\n",
       "      <td>34</td>\n",
       "      <td>0</td>\n",
       "    </tr>\n",
       "    <tr>\n",
       "      <th>999</th>\n",
       "      <td>49.0</td>\n",
       "      <td>10</td>\n",
       "      <td>1</td>\n",
       "    </tr>\n",
       "  </tbody>\n",
       "</table>\n",
       "</div>"
      ],
      "text/plain": [
       "     semester_percentage  scholarship_exam_marks  got_scholarship\n",
       "485                 49.2                      44                1\n",
       "995                 88.7                      44                1\n",
       "996                 91.2                      65                1\n",
       "997                 48.9                      34                0\n",
       "999                 49.0                      10                1"
      ]
     },
     "execution_count": 34,
     "metadata": {},
     "output_type": "execute_result"
    }
   ],
   "source": [
    "#Detecting the outliers using Normal Distribution\n",
    "df[(df[\"semester_percentage\"]<lowest_allowed) | (df[\"semester_percentage\"]>highest_allowed)]"
   ]
  },
  {
   "cell_type": "code",
   "execution_count": 35,
   "metadata": {},
   "outputs": [],
   "source": [
    "#detecting the outliers using Z-score\n",
    "df['z_score_Sem_perctge'] = (df['semester_percentage']-df['semester_percentage'].mean())/(df['semester_percentage'].std())"
   ]
  },
  {
   "cell_type": "code",
   "execution_count": 36,
   "metadata": {},
   "outputs": [
    {
     "data": {
      "application/vnd.microsoft.datawrangler.viewer.v0+json": {
       "columns": [
        {
         "name": "index",
         "rawType": "int64",
         "type": "integer"
        },
        {
         "name": "semester_percentage",
         "rawType": "float64",
         "type": "float"
        },
        {
         "name": "scholarship_exam_marks",
         "rawType": "int64",
         "type": "integer"
        },
        {
         "name": "got_scholarship",
         "rawType": "int64",
         "type": "integer"
        },
        {
         "name": "z_score_Sem_perctge",
         "rawType": "float64",
         "type": "float"
        }
       ],
       "conversionMethod": "pd.DataFrame",
       "ref": "3f35d840-4e28-4028-b3c7-c68b7d63df7c",
       "rows": [
        [
         "0",
         "71.9",
         "26",
         "1",
         "0.37142521388116223"
        ],
        [
         "1",
         "74.6",
         "38",
         "1",
         "0.8098095806756755"
        ],
        [
         "2",
         "75.4",
         "40",
         "1",
         "0.9397012449110893"
        ],
        [
         "3",
         "64.2",
         "8",
         "1",
         "-0.8787820543846777"
        ],
        [
         "4",
         "72.3",
         "17",
         "0",
         "0.4363710459988668"
        ],
        [
         "5",
         "73.0",
         "23",
         "1",
         "0.5500262522048527"
        ],
        [
         "6",
         "66.9",
         "11",
         "0",
         "-0.4403976875901621"
        ],
        [
         "7",
         "71.2",
         "39",
         "1",
         "0.2577700076751764"
        ],
        [
         "8",
         "64.5",
         "38",
         "0",
         "-0.8300726802963987"
        ],
        [
         "9",
         "77.5",
         "94",
         "1",
         "1.2806668635290446"
        ],
        [
         "10",
         "68.2",
         "16",
         "1",
         "-0.22932373320761823"
        ],
        [
         "11",
         "63.8",
         "7",
         "1",
         "-0.9437278865023846"
        ],
        [
         "12",
         "65.8",
         "16",
         "1",
         "-0.6189987259138549"
        ],
        [
         "13",
         "56.8",
         "26",
         "0",
         "-2.0802799485622385"
        ],
        [
         "14",
         "79.1",
         "43",
         "0",
         "1.5404501919998674"
        ],
        [
         "15",
         "71.0",
         "21",
         "0",
         "0.22529709161632294"
        ],
        [
         "16",
         "65.3",
         "19",
         "0",
         "-0.7001810160609873"
        ],
        [
         "17",
         "75.6",
         "22",
         "1",
         "0.9721741609699404"
        ],
        [
         "18",
         "69.3",
         "27",
         "0",
         "-0.050722694883927805"
        ],
        [
         "19",
         "76.3",
         "29",
         "0",
         "1.0858293671759263"
        ],
        [
         "20",
         "66.9",
         "47",
         "0",
         "-0.4403976875901621"
        ],
        [
         "21",
         "74.3",
         "33",
         "1",
         "0.7611002065873965"
        ],
        [
         "22",
         "67.6",
         "54",
         "1",
         "-0.32674248138417855"
        ],
        [
         "23",
         "60.5",
         "11",
         "0",
         "-1.4795310014734582"
        ],
        [
         "24",
         "64.4",
         "11",
         "0",
         "-0.8463091383258242"
        ],
        [
         "25",
         "62.8",
         "58",
         "1",
         "-1.1060924667966494"
        ],
        [
         "26",
         "74.5",
         "8",
         "1",
         "0.79357312264625"
        ],
        [
         "27",
         "65.3",
         "46",
         "0",
         "-0.7001810160609873"
        ],
        [
         "28",
         "72.3",
         "19",
         "0",
         "0.4363710459988668"
        ],
        [
         "29",
         "65.1",
         "15",
         "1",
         "-0.7326539321198408"
        ],
        [
         "30",
         "74.6",
         "16",
         "0",
         "0.8098095806756755"
        ],
        [
         "31",
         "76.6",
         "44",
         "0",
         "1.1345387412642052"
        ],
        [
         "32",
         "59.1",
         "11",
         "1",
         "-1.7068414138854289"
        ],
        [
         "33",
         "62.3",
         "27",
         "0",
         "-1.1872747569437818"
        ],
        [
         "34",
         "81.5",
         "9",
         "0",
         "1.930125184706104"
        ],
        [
         "35",
         "74.8",
         "12",
         "0",
         "0.8422824967345289"
        ],
        [
         "36",
         "68.5",
         "16",
         "1",
         "-0.18061435911933924"
        ],
        [
         "37",
         "85.1",
         "9",
         "1",
         "2.5146376737654568"
        ],
        [
         "38",
         "65.8",
         "20",
         "1",
         "-0.6189987259138549"
        ],
        [
         "39",
         "72.5",
         "17",
         "0",
         "0.4688439620577202"
        ],
        [
         "40",
         "66.0",
         "86",
         "1",
         "-0.5865258098550014"
        ],
        [
         "41",
         "67.0",
         "38",
         "0",
         "-0.42416122956073654"
        ],
        [
         "42",
         "74.6",
         "71",
         "1",
         "0.8098095806756755"
        ],
        [
         "43",
         "78.5",
         "63",
         "0",
         "1.4430314438233094"
        ],
        [
         "44",
         "78.8",
         "55",
         "0",
         "1.4917408179115885"
        ],
        [
         "45",
         "69.2",
         "10",
         "1",
         "-0.06695915291335337"
        ],
        [
         "46",
         "73.0",
         "15",
         "0",
         "0.5500262522048527"
        ],
        [
         "47",
         "69.2",
         "46",
         "0",
         "-0.06695915291335337"
        ],
        [
         "48",
         "62.9",
         "42",
         "0",
         "-1.0898560087672227"
        ],
        [
         "49",
         "82.3",
         "28",
         "1",
         "2.0600168489415154"
        ]
       ],
       "shape": {
        "columns": 4,
        "rows": 1000
       }
      },
      "text/html": [
       "<div>\n",
       "<style scoped>\n",
       "    .dataframe tbody tr th:only-of-type {\n",
       "        vertical-align: middle;\n",
       "    }\n",
       "\n",
       "    .dataframe tbody tr th {\n",
       "        vertical-align: top;\n",
       "    }\n",
       "\n",
       "    .dataframe thead th {\n",
       "        text-align: right;\n",
       "    }\n",
       "</style>\n",
       "<table border=\"1\" class=\"dataframe\">\n",
       "  <thead>\n",
       "    <tr style=\"text-align: right;\">\n",
       "      <th></th>\n",
       "      <th>semester_percentage</th>\n",
       "      <th>scholarship_exam_marks</th>\n",
       "      <th>got_scholarship</th>\n",
       "      <th>z_score_Sem_perctge</th>\n",
       "    </tr>\n",
       "  </thead>\n",
       "  <tbody>\n",
       "    <tr>\n",
       "      <th>0</th>\n",
       "      <td>71.9</td>\n",
       "      <td>26</td>\n",
       "      <td>1</td>\n",
       "      <td>0.371425</td>\n",
       "    </tr>\n",
       "    <tr>\n",
       "      <th>1</th>\n",
       "      <td>74.6</td>\n",
       "      <td>38</td>\n",
       "      <td>1</td>\n",
       "      <td>0.809810</td>\n",
       "    </tr>\n",
       "    <tr>\n",
       "      <th>2</th>\n",
       "      <td>75.4</td>\n",
       "      <td>40</td>\n",
       "      <td>1</td>\n",
       "      <td>0.939701</td>\n",
       "    </tr>\n",
       "    <tr>\n",
       "      <th>3</th>\n",
       "      <td>64.2</td>\n",
       "      <td>8</td>\n",
       "      <td>1</td>\n",
       "      <td>-0.878782</td>\n",
       "    </tr>\n",
       "    <tr>\n",
       "      <th>4</th>\n",
       "      <td>72.3</td>\n",
       "      <td>17</td>\n",
       "      <td>0</td>\n",
       "      <td>0.436371</td>\n",
       "    </tr>\n",
       "    <tr>\n",
       "      <th>...</th>\n",
       "      <td>...</td>\n",
       "      <td>...</td>\n",
       "      <td>...</td>\n",
       "      <td>...</td>\n",
       "    </tr>\n",
       "    <tr>\n",
       "      <th>995</th>\n",
       "      <td>88.7</td>\n",
       "      <td>44</td>\n",
       "      <td>1</td>\n",
       "      <td>3.099150</td>\n",
       "    </tr>\n",
       "    <tr>\n",
       "      <th>996</th>\n",
       "      <td>91.2</td>\n",
       "      <td>65</td>\n",
       "      <td>1</td>\n",
       "      <td>3.505062</td>\n",
       "    </tr>\n",
       "    <tr>\n",
       "      <th>997</th>\n",
       "      <td>48.9</td>\n",
       "      <td>34</td>\n",
       "      <td>0</td>\n",
       "      <td>-3.362960</td>\n",
       "    </tr>\n",
       "    <tr>\n",
       "      <th>998</th>\n",
       "      <td>86.2</td>\n",
       "      <td>46</td>\n",
       "      <td>1</td>\n",
       "      <td>2.693239</td>\n",
       "    </tr>\n",
       "    <tr>\n",
       "      <th>999</th>\n",
       "      <td>49.0</td>\n",
       "      <td>10</td>\n",
       "      <td>1</td>\n",
       "      <td>-3.346724</td>\n",
       "    </tr>\n",
       "  </tbody>\n",
       "</table>\n",
       "<p>1000 rows × 4 columns</p>\n",
       "</div>"
      ],
      "text/plain": [
       "     semester_percentage  scholarship_exam_marks  got_scholarship  \\\n",
       "0                   71.9                      26                1   \n",
       "1                   74.6                      38                1   \n",
       "2                   75.4                      40                1   \n",
       "3                   64.2                       8                1   \n",
       "4                   72.3                      17                0   \n",
       "..                   ...                     ...              ...   \n",
       "995                 88.7                      44                1   \n",
       "996                 91.2                      65                1   \n",
       "997                 48.9                      34                0   \n",
       "998                 86.2                      46                1   \n",
       "999                 49.0                      10                1   \n",
       "\n",
       "     z_score_Sem_perctge  \n",
       "0               0.371425  \n",
       "1               0.809810  \n",
       "2               0.939701  \n",
       "3              -0.878782  \n",
       "4               0.436371  \n",
       "..                   ...  \n",
       "995             3.099150  \n",
       "996             3.505062  \n",
       "997            -3.362960  \n",
       "998             2.693239  \n",
       "999            -3.346724  \n",
       "\n",
       "[1000 rows x 4 columns]"
      ]
     },
     "execution_count": 36,
     "metadata": {},
     "output_type": "execute_result"
    }
   ],
   "source": [
    "df"
   ]
  },
  {
   "cell_type": "markdown",
   "metadata": {},
   "source": [
    "Trimming the outliers\n"
   ]
  },
  {
   "cell_type": "code",
   "execution_count": 37,
   "metadata": {},
   "outputs": [
    {
     "data": {
      "application/vnd.microsoft.datawrangler.viewer.v0+json": {
       "columns": [
        {
         "name": "index",
         "rawType": "int64",
         "type": "integer"
        },
        {
         "name": "semester_percentage",
         "rawType": "float64",
         "type": "float"
        },
        {
         "name": "scholarship_exam_marks",
         "rawType": "int64",
         "type": "integer"
        },
        {
         "name": "got_scholarship",
         "rawType": "int64",
         "type": "integer"
        },
        {
         "name": "z_score_Sem_perctge",
         "rawType": "float64",
         "type": "float"
        }
       ],
       "conversionMethod": "pd.DataFrame",
       "ref": "021244d9-d0cc-45ca-bd34-030b9b3019a9",
       "rows": [
        [
         "0",
         "71.9",
         "26",
         "1",
         "0.37142521388116223"
        ],
        [
         "1",
         "74.6",
         "38",
         "1",
         "0.8098095806756755"
        ],
        [
         "2",
         "75.4",
         "40",
         "1",
         "0.9397012449110893"
        ],
        [
         "3",
         "64.2",
         "8",
         "1",
         "-0.8787820543846777"
        ],
        [
         "4",
         "72.3",
         "17",
         "0",
         "0.4363710459988668"
        ],
        [
         "5",
         "73.0",
         "23",
         "1",
         "0.5500262522048527"
        ],
        [
         "6",
         "66.9",
         "11",
         "0",
         "-0.4403976875901621"
        ],
        [
         "7",
         "71.2",
         "39",
         "1",
         "0.2577700076751764"
        ],
        [
         "8",
         "64.5",
         "38",
         "0",
         "-0.8300726802963987"
        ],
        [
         "9",
         "77.5",
         "94",
         "1",
         "1.2806668635290446"
        ],
        [
         "10",
         "68.2",
         "16",
         "1",
         "-0.22932373320761823"
        ],
        [
         "11",
         "63.8",
         "7",
         "1",
         "-0.9437278865023846"
        ],
        [
         "12",
         "65.8",
         "16",
         "1",
         "-0.6189987259138549"
        ],
        [
         "13",
         "56.8",
         "26",
         "0",
         "-2.0802799485622385"
        ],
        [
         "14",
         "79.1",
         "43",
         "0",
         "1.5404501919998674"
        ],
        [
         "15",
         "71.0",
         "21",
         "0",
         "0.22529709161632294"
        ],
        [
         "16",
         "65.3",
         "19",
         "0",
         "-0.7001810160609873"
        ],
        [
         "17",
         "75.6",
         "22",
         "1",
         "0.9721741609699404"
        ],
        [
         "18",
         "69.3",
         "27",
         "0",
         "-0.050722694883927805"
        ],
        [
         "19",
         "76.3",
         "29",
         "0",
         "1.0858293671759263"
        ],
        [
         "20",
         "66.9",
         "47",
         "0",
         "-0.4403976875901621"
        ],
        [
         "21",
         "74.3",
         "33",
         "1",
         "0.7611002065873965"
        ],
        [
         "22",
         "67.6",
         "54",
         "1",
         "-0.32674248138417855"
        ],
        [
         "23",
         "60.5",
         "11",
         "0",
         "-1.4795310014734582"
        ],
        [
         "24",
         "64.4",
         "11",
         "0",
         "-0.8463091383258242"
        ],
        [
         "25",
         "62.8",
         "58",
         "1",
         "-1.1060924667966494"
        ],
        [
         "26",
         "74.5",
         "8",
         "1",
         "0.79357312264625"
        ],
        [
         "27",
         "65.3",
         "46",
         "0",
         "-0.7001810160609873"
        ],
        [
         "28",
         "72.3",
         "19",
         "0",
         "0.4363710459988668"
        ],
        [
         "29",
         "65.1",
         "15",
         "1",
         "-0.7326539321198408"
        ],
        [
         "30",
         "74.6",
         "16",
         "0",
         "0.8098095806756755"
        ],
        [
         "31",
         "76.6",
         "44",
         "0",
         "1.1345387412642052"
        ],
        [
         "32",
         "59.1",
         "11",
         "1",
         "-1.7068414138854289"
        ],
        [
         "33",
         "62.3",
         "27",
         "0",
         "-1.1872747569437818"
        ],
        [
         "34",
         "81.5",
         "9",
         "0",
         "1.930125184706104"
        ],
        [
         "35",
         "74.8",
         "12",
         "0",
         "0.8422824967345289"
        ],
        [
         "36",
         "68.5",
         "16",
         "1",
         "-0.18061435911933924"
        ],
        [
         "37",
         "85.1",
         "9",
         "1",
         "2.5146376737654568"
        ],
        [
         "38",
         "65.8",
         "20",
         "1",
         "-0.6189987259138549"
        ],
        [
         "39",
         "72.5",
         "17",
         "0",
         "0.4688439620577202"
        ],
        [
         "40",
         "66.0",
         "86",
         "1",
         "-0.5865258098550014"
        ],
        [
         "41",
         "67.0",
         "38",
         "0",
         "-0.42416122956073654"
        ],
        [
         "42",
         "74.6",
         "71",
         "1",
         "0.8098095806756755"
        ],
        [
         "43",
         "78.5",
         "63",
         "0",
         "1.4430314438233094"
        ],
        [
         "44",
         "78.8",
         "55",
         "0",
         "1.4917408179115885"
        ],
        [
         "45",
         "69.2",
         "10",
         "1",
         "-0.06695915291335337"
        ],
        [
         "46",
         "73.0",
         "15",
         "0",
         "0.5500262522048527"
        ],
        [
         "47",
         "69.2",
         "46",
         "0",
         "-0.06695915291335337"
        ],
        [
         "48",
         "62.9",
         "42",
         "0",
         "-1.0898560087672227"
        ],
        [
         "49",
         "82.3",
         "28",
         "1",
         "2.0600168489415154"
        ]
       ],
       "shape": {
        "columns": 4,
        "rows": 995
       }
      },
      "text/html": [
       "<div>\n",
       "<style scoped>\n",
       "    .dataframe tbody tr th:only-of-type {\n",
       "        vertical-align: middle;\n",
       "    }\n",
       "\n",
       "    .dataframe tbody tr th {\n",
       "        vertical-align: top;\n",
       "    }\n",
       "\n",
       "    .dataframe thead th {\n",
       "        text-align: right;\n",
       "    }\n",
       "</style>\n",
       "<table border=\"1\" class=\"dataframe\">\n",
       "  <thead>\n",
       "    <tr style=\"text-align: right;\">\n",
       "      <th></th>\n",
       "      <th>semester_percentage</th>\n",
       "      <th>scholarship_exam_marks</th>\n",
       "      <th>got_scholarship</th>\n",
       "      <th>z_score_Sem_perctge</th>\n",
       "    </tr>\n",
       "  </thead>\n",
       "  <tbody>\n",
       "    <tr>\n",
       "      <th>0</th>\n",
       "      <td>71.9</td>\n",
       "      <td>26</td>\n",
       "      <td>1</td>\n",
       "      <td>0.371425</td>\n",
       "    </tr>\n",
       "    <tr>\n",
       "      <th>1</th>\n",
       "      <td>74.6</td>\n",
       "      <td>38</td>\n",
       "      <td>1</td>\n",
       "      <td>0.809810</td>\n",
       "    </tr>\n",
       "    <tr>\n",
       "      <th>2</th>\n",
       "      <td>75.4</td>\n",
       "      <td>40</td>\n",
       "      <td>1</td>\n",
       "      <td>0.939701</td>\n",
       "    </tr>\n",
       "    <tr>\n",
       "      <th>3</th>\n",
       "      <td>64.2</td>\n",
       "      <td>8</td>\n",
       "      <td>1</td>\n",
       "      <td>-0.878782</td>\n",
       "    </tr>\n",
       "    <tr>\n",
       "      <th>4</th>\n",
       "      <td>72.3</td>\n",
       "      <td>17</td>\n",
       "      <td>0</td>\n",
       "      <td>0.436371</td>\n",
       "    </tr>\n",
       "    <tr>\n",
       "      <th>...</th>\n",
       "      <td>...</td>\n",
       "      <td>...</td>\n",
       "      <td>...</td>\n",
       "      <td>...</td>\n",
       "    </tr>\n",
       "    <tr>\n",
       "      <th>991</th>\n",
       "      <td>70.4</td>\n",
       "      <td>57</td>\n",
       "      <td>0</td>\n",
       "      <td>0.127878</td>\n",
       "    </tr>\n",
       "    <tr>\n",
       "      <th>992</th>\n",
       "      <td>62.6</td>\n",
       "      <td>12</td>\n",
       "      <td>0</td>\n",
       "      <td>-1.138565</td>\n",
       "    </tr>\n",
       "    <tr>\n",
       "      <th>993</th>\n",
       "      <td>67.3</td>\n",
       "      <td>21</td>\n",
       "      <td>1</td>\n",
       "      <td>-0.375452</td>\n",
       "    </tr>\n",
       "    <tr>\n",
       "      <th>994</th>\n",
       "      <td>64.8</td>\n",
       "      <td>63</td>\n",
       "      <td>0</td>\n",
       "      <td>-0.781363</td>\n",
       "    </tr>\n",
       "    <tr>\n",
       "      <th>998</th>\n",
       "      <td>86.2</td>\n",
       "      <td>46</td>\n",
       "      <td>1</td>\n",
       "      <td>2.693239</td>\n",
       "    </tr>\n",
       "  </tbody>\n",
       "</table>\n",
       "<p>995 rows × 4 columns</p>\n",
       "</div>"
      ],
      "text/plain": [
       "     semester_percentage  scholarship_exam_marks  got_scholarship  \\\n",
       "0                   71.9                      26                1   \n",
       "1                   74.6                      38                1   \n",
       "2                   75.4                      40                1   \n",
       "3                   64.2                       8                1   \n",
       "4                   72.3                      17                0   \n",
       "..                   ...                     ...              ...   \n",
       "991                 70.4                      57                0   \n",
       "992                 62.6                      12                0   \n",
       "993                 67.3                      21                1   \n",
       "994                 64.8                      63                0   \n",
       "998                 86.2                      46                1   \n",
       "\n",
       "     z_score_Sem_perctge  \n",
       "0               0.371425  \n",
       "1               0.809810  \n",
       "2               0.939701  \n",
       "3              -0.878782  \n",
       "4               0.436371  \n",
       "..                   ...  \n",
       "991             0.127878  \n",
       "992            -1.138565  \n",
       "993            -0.375452  \n",
       "994            -0.781363  \n",
       "998             2.693239  \n",
       "\n",
       "[995 rows x 4 columns]"
      ]
     },
     "execution_count": 37,
     "metadata": {},
     "output_type": "execute_result"
    }
   ],
   "source": [
    "#Removing the outliers\n",
    "df[(df['semester_percentage']<highest_allowed) & (df['semester_percentage']>lowest_allowed)]\n"
   ]
  },
  {
   "cell_type": "markdown",
   "metadata": {},
   "source": [
    "Capping - I dont want to Trim those outliers instead I will add some useful values"
   ]
  },
  {
   "cell_type": "markdown",
   "metadata": {},
   "source": [
    "Capping means any values that are lesser than lower_limit those values will changed to lower_limit value."
   ]
  },
  {
   "cell_type": "markdown",
   "metadata": {},
   "source": [
    "Similarly any value that is greater than upper_limit those values will be changed to upper_limit value."
   ]
  },
  {
   "cell_type": "code",
   "execution_count": 40,
   "metadata": {},
   "outputs": [
    {
     "name": "stdout",
     "output_type": "stream",
     "text": [
      "51.13546374602831 , 88.08933625397168\n"
     ]
    }
   ],
   "source": [
    "upper_limit = mean+3*sdt\n",
    "lower_limit = mean -3*sdt\n",
    "print(lower_limit, \",\", upper_limit)"
   ]
  },
  {
   "cell_type": "code",
   "execution_count": 46,
   "metadata": {},
   "outputs": [],
   "source": [
    "#np.where(condition, x, y)  checks the condition if it's true prints x; else prints y\n",
    "df['semester_percentage'] = np.where(df['semester_percentage']>upper_limit, upper_limit, \n",
    "                                    np.where(df['semester_percentage']<lower_limit, lower_limit,df['semester_percentage']))"
   ]
  },
  {
   "cell_type": "code",
   "execution_count": 47,
   "metadata": {},
   "outputs": [
    {
     "data": {
      "application/vnd.microsoft.datawrangler.viewer.v0+json": {
       "columns": [
        {
         "name": "index",
         "rawType": "int64",
         "type": "integer"
        },
        {
         "name": "semester_percentage",
         "rawType": "float64",
         "type": "float"
        },
        {
         "name": "scholarship_exam_marks",
         "rawType": "int64",
         "type": "integer"
        },
        {
         "name": "got_scholarship",
         "rawType": "int64",
         "type": "integer"
        },
        {
         "name": "z_score_Sem_perctge",
         "rawType": "float64",
         "type": "float"
        }
       ],
       "conversionMethod": "pd.DataFrame",
       "ref": "4db03814-d152-4b06-a72a-83a7d319d1c8",
       "rows": [
        [
         "0",
         "71.9",
         "26",
         "1",
         "0.37142521388116223"
        ],
        [
         "1",
         "74.6",
         "38",
         "1",
         "0.8098095806756755"
        ],
        [
         "2",
         "75.4",
         "40",
         "1",
         "0.9397012449110893"
        ],
        [
         "3",
         "64.2",
         "8",
         "1",
         "-0.8787820543846777"
        ],
        [
         "4",
         "72.3",
         "17",
         "0",
         "0.4363710459988668"
        ],
        [
         "5",
         "73.0",
         "23",
         "1",
         "0.5500262522048527"
        ],
        [
         "6",
         "66.9",
         "11",
         "0",
         "-0.4403976875901621"
        ],
        [
         "7",
         "71.2",
         "39",
         "1",
         "0.2577700076751764"
        ],
        [
         "8",
         "64.5",
         "38",
         "0",
         "-0.8300726802963987"
        ],
        [
         "9",
         "77.5",
         "94",
         "1",
         "1.2806668635290446"
        ],
        [
         "10",
         "68.2",
         "16",
         "1",
         "-0.22932373320761823"
        ],
        [
         "11",
         "63.8",
         "7",
         "1",
         "-0.9437278865023846"
        ],
        [
         "12",
         "65.8",
         "16",
         "1",
         "-0.6189987259138549"
        ],
        [
         "13",
         "56.8",
         "26",
         "0",
         "-2.0802799485622385"
        ],
        [
         "14",
         "79.1",
         "43",
         "0",
         "1.5404501919998674"
        ],
        [
         "15",
         "71.0",
         "21",
         "0",
         "0.22529709161632294"
        ],
        [
         "16",
         "65.3",
         "19",
         "0",
         "-0.7001810160609873"
        ],
        [
         "17",
         "75.6",
         "22",
         "1",
         "0.9721741609699404"
        ],
        [
         "18",
         "69.3",
         "27",
         "0",
         "-0.050722694883927805"
        ],
        [
         "19",
         "76.3",
         "29",
         "0",
         "1.0858293671759263"
        ],
        [
         "20",
         "66.9",
         "47",
         "0",
         "-0.4403976875901621"
        ],
        [
         "21",
         "74.3",
         "33",
         "1",
         "0.7611002065873965"
        ],
        [
         "22",
         "67.6",
         "54",
         "1",
         "-0.32674248138417855"
        ],
        [
         "23",
         "60.5",
         "11",
         "0",
         "-1.4795310014734582"
        ],
        [
         "24",
         "64.4",
         "11",
         "0",
         "-0.8463091383258242"
        ],
        [
         "25",
         "62.8",
         "58",
         "1",
         "-1.1060924667966494"
        ],
        [
         "26",
         "74.5",
         "8",
         "1",
         "0.79357312264625"
        ],
        [
         "27",
         "65.3",
         "46",
         "0",
         "-0.7001810160609873"
        ],
        [
         "28",
         "72.3",
         "19",
         "0",
         "0.4363710459988668"
        ],
        [
         "29",
         "65.1",
         "15",
         "1",
         "-0.7326539321198408"
        ],
        [
         "30",
         "74.6",
         "16",
         "0",
         "0.8098095806756755"
        ],
        [
         "31",
         "76.6",
         "44",
         "0",
         "1.1345387412642052"
        ],
        [
         "32",
         "59.1",
         "11",
         "1",
         "-1.7068414138854289"
        ],
        [
         "33",
         "62.3",
         "27",
         "0",
         "-1.1872747569437818"
        ],
        [
         "34",
         "81.5",
         "9",
         "0",
         "1.930125184706104"
        ],
        [
         "35",
         "74.8",
         "12",
         "0",
         "0.8422824967345289"
        ],
        [
         "36",
         "68.5",
         "16",
         "1",
         "-0.18061435911933924"
        ],
        [
         "37",
         "85.1",
         "9",
         "1",
         "2.5146376737654568"
        ],
        [
         "38",
         "65.8",
         "20",
         "1",
         "-0.6189987259138549"
        ],
        [
         "39",
         "72.5",
         "17",
         "0",
         "0.4688439620577202"
        ],
        [
         "40",
         "66.0",
         "86",
         "1",
         "-0.5865258098550014"
        ],
        [
         "41",
         "67.0",
         "38",
         "0",
         "-0.42416122956073654"
        ],
        [
         "42",
         "74.6",
         "71",
         "1",
         "0.8098095806756755"
        ],
        [
         "43",
         "78.5",
         "63",
         "0",
         "1.4430314438233094"
        ],
        [
         "44",
         "78.8",
         "55",
         "0",
         "1.4917408179115885"
        ],
        [
         "45",
         "69.2",
         "10",
         "1",
         "-0.06695915291335337"
        ],
        [
         "46",
         "73.0",
         "15",
         "0",
         "0.5500262522048527"
        ],
        [
         "47",
         "69.2",
         "46",
         "0",
         "-0.06695915291335337"
        ],
        [
         "48",
         "62.9",
         "42",
         "0",
         "-1.0898560087672227"
        ],
        [
         "49",
         "82.3",
         "28",
         "1",
         "2.0600168489415154"
        ]
       ],
       "shape": {
        "columns": 4,
        "rows": 1000
       }
      },
      "text/html": [
       "<div>\n",
       "<style scoped>\n",
       "    .dataframe tbody tr th:only-of-type {\n",
       "        vertical-align: middle;\n",
       "    }\n",
       "\n",
       "    .dataframe tbody tr th {\n",
       "        vertical-align: top;\n",
       "    }\n",
       "\n",
       "    .dataframe thead th {\n",
       "        text-align: right;\n",
       "    }\n",
       "</style>\n",
       "<table border=\"1\" class=\"dataframe\">\n",
       "  <thead>\n",
       "    <tr style=\"text-align: right;\">\n",
       "      <th></th>\n",
       "      <th>semester_percentage</th>\n",
       "      <th>scholarship_exam_marks</th>\n",
       "      <th>got_scholarship</th>\n",
       "      <th>z_score_Sem_perctge</th>\n",
       "    </tr>\n",
       "  </thead>\n",
       "  <tbody>\n",
       "    <tr>\n",
       "      <th>0</th>\n",
       "      <td>71.900000</td>\n",
       "      <td>26</td>\n",
       "      <td>1</td>\n",
       "      <td>0.371425</td>\n",
       "    </tr>\n",
       "    <tr>\n",
       "      <th>1</th>\n",
       "      <td>74.600000</td>\n",
       "      <td>38</td>\n",
       "      <td>1</td>\n",
       "      <td>0.809810</td>\n",
       "    </tr>\n",
       "    <tr>\n",
       "      <th>2</th>\n",
       "      <td>75.400000</td>\n",
       "      <td>40</td>\n",
       "      <td>1</td>\n",
       "      <td>0.939701</td>\n",
       "    </tr>\n",
       "    <tr>\n",
       "      <th>3</th>\n",
       "      <td>64.200000</td>\n",
       "      <td>8</td>\n",
       "      <td>1</td>\n",
       "      <td>-0.878782</td>\n",
       "    </tr>\n",
       "    <tr>\n",
       "      <th>4</th>\n",
       "      <td>72.300000</td>\n",
       "      <td>17</td>\n",
       "      <td>0</td>\n",
       "      <td>0.436371</td>\n",
       "    </tr>\n",
       "    <tr>\n",
       "      <th>...</th>\n",
       "      <td>...</td>\n",
       "      <td>...</td>\n",
       "      <td>...</td>\n",
       "      <td>...</td>\n",
       "    </tr>\n",
       "    <tr>\n",
       "      <th>995</th>\n",
       "      <td>88.089336</td>\n",
       "      <td>44</td>\n",
       "      <td>1</td>\n",
       "      <td>3.099150</td>\n",
       "    </tr>\n",
       "    <tr>\n",
       "      <th>996</th>\n",
       "      <td>88.089336</td>\n",
       "      <td>65</td>\n",
       "      <td>1</td>\n",
       "      <td>3.505062</td>\n",
       "    </tr>\n",
       "    <tr>\n",
       "      <th>997</th>\n",
       "      <td>51.135464</td>\n",
       "      <td>34</td>\n",
       "      <td>0</td>\n",
       "      <td>-3.362960</td>\n",
       "    </tr>\n",
       "    <tr>\n",
       "      <th>998</th>\n",
       "      <td>86.200000</td>\n",
       "      <td>46</td>\n",
       "      <td>1</td>\n",
       "      <td>2.693239</td>\n",
       "    </tr>\n",
       "    <tr>\n",
       "      <th>999</th>\n",
       "      <td>51.135464</td>\n",
       "      <td>10</td>\n",
       "      <td>1</td>\n",
       "      <td>-3.346724</td>\n",
       "    </tr>\n",
       "  </tbody>\n",
       "</table>\n",
       "<p>1000 rows × 4 columns</p>\n",
       "</div>"
      ],
      "text/plain": [
       "     semester_percentage  scholarship_exam_marks  got_scholarship  \\\n",
       "0              71.900000                      26                1   \n",
       "1              74.600000                      38                1   \n",
       "2              75.400000                      40                1   \n",
       "3              64.200000                       8                1   \n",
       "4              72.300000                      17                0   \n",
       "..                   ...                     ...              ...   \n",
       "995            88.089336                      44                1   \n",
       "996            88.089336                      65                1   \n",
       "997            51.135464                      34                0   \n",
       "998            86.200000                      46                1   \n",
       "999            51.135464                      10                1   \n",
       "\n",
       "     z_score_Sem_perctge  \n",
       "0               0.371425  \n",
       "1               0.809810  \n",
       "2               0.939701  \n",
       "3              -0.878782  \n",
       "4               0.436371  \n",
       "..                   ...  \n",
       "995             3.099150  \n",
       "996             3.505062  \n",
       "997            -3.362960  \n",
       "998             2.693239  \n",
       "999            -3.346724  \n",
       "\n",
       "[1000 rows x 4 columns]"
      ]
     },
     "execution_count": 47,
     "metadata": {},
     "output_type": "execute_result"
    }
   ],
   "source": [
    "df"
   ]
  },
  {
   "cell_type": "code",
   "execution_count": 45,
   "metadata": {},
   "outputs": [
    {
     "data": {
      "application/vnd.microsoft.datawrangler.viewer.v0+json": {
       "columns": [
        {
         "name": "index",
         "rawType": "int64",
         "type": "integer"
        },
        {
         "name": "semester_percentage",
         "rawType": "float64",
         "type": "float"
        },
        {
         "name": "scholarship_exam_marks",
         "rawType": "int64",
         "type": "integer"
        },
        {
         "name": "got_scholarship",
         "rawType": "int64",
         "type": "integer"
        },
        {
         "name": "z_score_Sem_perctge",
         "rawType": "float64",
         "type": "float"
        }
       ],
       "conversionMethod": "pd.DataFrame",
       "ref": "a8489443-2d06-4c45-8cb0-c856f7754cf1",
       "rows": [],
       "shape": {
        "columns": 4,
        "rows": 0
       }
      },
      "text/html": [
       "<div>\n",
       "<style scoped>\n",
       "    .dataframe tbody tr th:only-of-type {\n",
       "        vertical-align: middle;\n",
       "    }\n",
       "\n",
       "    .dataframe tbody tr th {\n",
       "        vertical-align: top;\n",
       "    }\n",
       "\n",
       "    .dataframe thead th {\n",
       "        text-align: right;\n",
       "    }\n",
       "</style>\n",
       "<table border=\"1\" class=\"dataframe\">\n",
       "  <thead>\n",
       "    <tr style=\"text-align: right;\">\n",
       "      <th></th>\n",
       "      <th>semester_percentage</th>\n",
       "      <th>scholarship_exam_marks</th>\n",
       "      <th>got_scholarship</th>\n",
       "      <th>z_score_Sem_perctge</th>\n",
       "    </tr>\n",
       "  </thead>\n",
       "  <tbody>\n",
       "  </tbody>\n",
       "</table>\n",
       "</div>"
      ],
      "text/plain": [
       "Empty DataFrame\n",
       "Columns: [semester_percentage, scholarship_exam_marks, got_scholarship, z_score_Sem_perctge]\n",
       "Index: []"
      ]
     },
     "execution_count": 45,
     "metadata": {},
     "output_type": "execute_result"
    }
   ],
   "source": [
    "#Now after Capping checking the presence of Outliers\n",
    "df[(df['semester_percentage']>upper_limit) | (df['semester_percentage']<lower_limit)]"
   ]
  },
  {
   "cell_type": "markdown",
   "metadata": {},
   "source": [
    "---------------------------------------------------------------------------------------------------------------------------\n",
    "Handling the outliers using Interquartile Range(IQR) \n",
    "---------------------------------------------------------------------------------------------------------------------------"
   ]
  },
  {
   "cell_type": "markdown",
   "metadata": {},
   "source": [
    "NOTE: IQR is used when we have skewed distribution"
   ]
  },
  {
   "cell_type": "code",
   "execution_count": 48,
   "metadata": {},
   "outputs": [],
   "source": [
    "import pandas as pd\n",
    "import numpy as np\n",
    "import matplotlib.pyplot as plt\n",
    "import seaborn as sns\n"
   ]
  },
  {
   "cell_type": "code",
   "execution_count": 49,
   "metadata": {},
   "outputs": [
    {
     "data": {
      "application/vnd.microsoft.datawrangler.viewer.v0+json": {
       "columns": [
        {
         "name": "index",
         "rawType": "int64",
         "type": "integer"
        },
        {
         "name": "semester_percentage",
         "rawType": "float64",
         "type": "float"
        },
        {
         "name": "scholarship_exam_marks",
         "rawType": "int64",
         "type": "integer"
        },
        {
         "name": "got_scholarship",
         "rawType": "int64",
         "type": "integer"
        }
       ],
       "conversionMethod": "pd.DataFrame",
       "ref": "eb5d66dd-2a86-4f83-befa-1970d49ae119",
       "rows": [
        [
         "0",
         "71.9",
         "26",
         "1"
        ],
        [
         "1",
         "74.6",
         "38",
         "1"
        ],
        [
         "2",
         "75.4",
         "40",
         "1"
        ],
        [
         "3",
         "64.2",
         "8",
         "1"
        ],
        [
         "4",
         "72.3",
         "17",
         "0"
        ],
        [
         "5",
         "73.0",
         "23",
         "1"
        ],
        [
         "6",
         "66.9",
         "11",
         "0"
        ],
        [
         "7",
         "71.2",
         "39",
         "1"
        ],
        [
         "8",
         "64.5",
         "38",
         "0"
        ],
        [
         "9",
         "77.5",
         "94",
         "1"
        ],
        [
         "10",
         "68.2",
         "16",
         "1"
        ],
        [
         "11",
         "63.8",
         "7",
         "1"
        ],
        [
         "12",
         "65.8",
         "16",
         "1"
        ],
        [
         "13",
         "56.8",
         "26",
         "0"
        ],
        [
         "14",
         "79.1",
         "43",
         "0"
        ],
        [
         "15",
         "71.0",
         "21",
         "0"
        ],
        [
         "16",
         "65.3",
         "19",
         "0"
        ],
        [
         "17",
         "75.6",
         "22",
         "1"
        ],
        [
         "18",
         "69.3",
         "27",
         "0"
        ],
        [
         "19",
         "76.3",
         "29",
         "0"
        ],
        [
         "20",
         "66.9",
         "47",
         "0"
        ],
        [
         "21",
         "74.3",
         "33",
         "1"
        ],
        [
         "22",
         "67.6",
         "54",
         "1"
        ],
        [
         "23",
         "60.5",
         "11",
         "0"
        ],
        [
         "24",
         "64.4",
         "11",
         "0"
        ],
        [
         "25",
         "62.8",
         "58",
         "1"
        ],
        [
         "26",
         "74.5",
         "8",
         "1"
        ],
        [
         "27",
         "65.3",
         "46",
         "0"
        ],
        [
         "28",
         "72.3",
         "19",
         "0"
        ],
        [
         "29",
         "65.1",
         "15",
         "1"
        ],
        [
         "30",
         "74.6",
         "16",
         "0"
        ],
        [
         "31",
         "76.6",
         "44",
         "0"
        ],
        [
         "32",
         "59.1",
         "11",
         "1"
        ],
        [
         "33",
         "62.3",
         "27",
         "0"
        ],
        [
         "34",
         "81.5",
         "9",
         "0"
        ],
        [
         "35",
         "74.8",
         "12",
         "0"
        ],
        [
         "36",
         "68.5",
         "16",
         "1"
        ],
        [
         "37",
         "85.1",
         "9",
         "1"
        ],
        [
         "38",
         "65.8",
         "20",
         "1"
        ],
        [
         "39",
         "72.5",
         "17",
         "0"
        ],
        [
         "40",
         "66.0",
         "86",
         "1"
        ],
        [
         "41",
         "67.0",
         "38",
         "0"
        ],
        [
         "42",
         "74.6",
         "71",
         "1"
        ],
        [
         "43",
         "78.5",
         "63",
         "0"
        ],
        [
         "44",
         "78.8",
         "55",
         "0"
        ],
        [
         "45",
         "69.2",
         "10",
         "1"
        ],
        [
         "46",
         "73.0",
         "15",
         "0"
        ],
        [
         "47",
         "69.2",
         "46",
         "0"
        ],
        [
         "48",
         "62.9",
         "42",
         "0"
        ],
        [
         "49",
         "82.3",
         "28",
         "1"
        ]
       ],
       "shape": {
        "columns": 3,
        "rows": 1000
       }
      },
      "text/html": [
       "<div>\n",
       "<style scoped>\n",
       "    .dataframe tbody tr th:only-of-type {\n",
       "        vertical-align: middle;\n",
       "    }\n",
       "\n",
       "    .dataframe tbody tr th {\n",
       "        vertical-align: top;\n",
       "    }\n",
       "\n",
       "    .dataframe thead th {\n",
       "        text-align: right;\n",
       "    }\n",
       "</style>\n",
       "<table border=\"1\" class=\"dataframe\">\n",
       "  <thead>\n",
       "    <tr style=\"text-align: right;\">\n",
       "      <th></th>\n",
       "      <th>semester_percentage</th>\n",
       "      <th>scholarship_exam_marks</th>\n",
       "      <th>got_scholarship</th>\n",
       "    </tr>\n",
       "  </thead>\n",
       "  <tbody>\n",
       "    <tr>\n",
       "      <th>0</th>\n",
       "      <td>71.9</td>\n",
       "      <td>26</td>\n",
       "      <td>1</td>\n",
       "    </tr>\n",
       "    <tr>\n",
       "      <th>1</th>\n",
       "      <td>74.6</td>\n",
       "      <td>38</td>\n",
       "      <td>1</td>\n",
       "    </tr>\n",
       "    <tr>\n",
       "      <th>2</th>\n",
       "      <td>75.4</td>\n",
       "      <td>40</td>\n",
       "      <td>1</td>\n",
       "    </tr>\n",
       "    <tr>\n",
       "      <th>3</th>\n",
       "      <td>64.2</td>\n",
       "      <td>8</td>\n",
       "      <td>1</td>\n",
       "    </tr>\n",
       "    <tr>\n",
       "      <th>4</th>\n",
       "      <td>72.3</td>\n",
       "      <td>17</td>\n",
       "      <td>0</td>\n",
       "    </tr>\n",
       "    <tr>\n",
       "      <th>...</th>\n",
       "      <td>...</td>\n",
       "      <td>...</td>\n",
       "      <td>...</td>\n",
       "    </tr>\n",
       "    <tr>\n",
       "      <th>995</th>\n",
       "      <td>88.7</td>\n",
       "      <td>44</td>\n",
       "      <td>1</td>\n",
       "    </tr>\n",
       "    <tr>\n",
       "      <th>996</th>\n",
       "      <td>91.2</td>\n",
       "      <td>65</td>\n",
       "      <td>1</td>\n",
       "    </tr>\n",
       "    <tr>\n",
       "      <th>997</th>\n",
       "      <td>48.9</td>\n",
       "      <td>34</td>\n",
       "      <td>0</td>\n",
       "    </tr>\n",
       "    <tr>\n",
       "      <th>998</th>\n",
       "      <td>86.2</td>\n",
       "      <td>46</td>\n",
       "      <td>1</td>\n",
       "    </tr>\n",
       "    <tr>\n",
       "      <th>999</th>\n",
       "      <td>49.0</td>\n",
       "      <td>10</td>\n",
       "      <td>1</td>\n",
       "    </tr>\n",
       "  </tbody>\n",
       "</table>\n",
       "<p>1000 rows × 3 columns</p>\n",
       "</div>"
      ],
      "text/plain": [
       "     semester_percentage  scholarship_exam_marks  got_scholarship\n",
       "0                   71.9                      26                1\n",
       "1                   74.6                      38                1\n",
       "2                   75.4                      40                1\n",
       "3                   64.2                       8                1\n",
       "4                   72.3                      17                0\n",
       "..                   ...                     ...              ...\n",
       "995                 88.7                      44                1\n",
       "996                 91.2                      65                1\n",
       "997                 48.9                      34                0\n",
       "998                 86.2                      46                1\n",
       "999                 49.0                      10                1\n",
       "\n",
       "[1000 rows x 3 columns]"
      ]
     },
     "execution_count": 49,
     "metadata": {},
     "output_type": "execute_result"
    }
   ],
   "source": [
    "data = pd.read_csv(\"scholarship.csv\")\n",
    "data"
   ]
  },
  {
   "cell_type": "code",
   "execution_count": 50,
   "metadata": {},
   "outputs": [],
   "source": [
    "df= data.copy()"
   ]
  },
  {
   "cell_type": "code",
   "execution_count": 51,
   "metadata": {},
   "outputs": [
    {
     "data": {
      "application/vnd.microsoft.datawrangler.viewer.v0+json": {
       "columns": [
        {
         "name": "index",
         "rawType": "int64",
         "type": "integer"
        },
        {
         "name": "semester_percentage",
         "rawType": "float64",
         "type": "float"
        },
        {
         "name": "scholarship_exam_marks",
         "rawType": "int64",
         "type": "integer"
        },
        {
         "name": "got_scholarship",
         "rawType": "int64",
         "type": "integer"
        }
       ],
       "conversionMethod": "pd.DataFrame",
       "ref": "a2ccf50f-09a8-49c7-b38d-d8e0c24a0083",
       "rows": [
        [
         "0",
         "71.9",
         "26",
         "1"
        ],
        [
         "1",
         "74.6",
         "38",
         "1"
        ],
        [
         "2",
         "75.4",
         "40",
         "1"
        ],
        [
         "3",
         "64.2",
         "8",
         "1"
        ],
        [
         "4",
         "72.3",
         "17",
         "0"
        ],
        [
         "5",
         "73.0",
         "23",
         "1"
        ],
        [
         "6",
         "66.9",
         "11",
         "0"
        ],
        [
         "7",
         "71.2",
         "39",
         "1"
        ],
        [
         "8",
         "64.5",
         "38",
         "0"
        ],
        [
         "9",
         "77.5",
         "94",
         "1"
        ],
        [
         "10",
         "68.2",
         "16",
         "1"
        ],
        [
         "11",
         "63.8",
         "7",
         "1"
        ],
        [
         "12",
         "65.8",
         "16",
         "1"
        ],
        [
         "13",
         "56.8",
         "26",
         "0"
        ],
        [
         "14",
         "79.1",
         "43",
         "0"
        ],
        [
         "15",
         "71.0",
         "21",
         "0"
        ],
        [
         "16",
         "65.3",
         "19",
         "0"
        ],
        [
         "17",
         "75.6",
         "22",
         "1"
        ],
        [
         "18",
         "69.3",
         "27",
         "0"
        ],
        [
         "19",
         "76.3",
         "29",
         "0"
        ],
        [
         "20",
         "66.9",
         "47",
         "0"
        ],
        [
         "21",
         "74.3",
         "33",
         "1"
        ],
        [
         "22",
         "67.6",
         "54",
         "1"
        ],
        [
         "23",
         "60.5",
         "11",
         "0"
        ],
        [
         "24",
         "64.4",
         "11",
         "0"
        ],
        [
         "25",
         "62.8",
         "58",
         "1"
        ],
        [
         "26",
         "74.5",
         "8",
         "1"
        ],
        [
         "27",
         "65.3",
         "46",
         "0"
        ],
        [
         "28",
         "72.3",
         "19",
         "0"
        ],
        [
         "29",
         "65.1",
         "15",
         "1"
        ],
        [
         "30",
         "74.6",
         "16",
         "0"
        ],
        [
         "31",
         "76.6",
         "44",
         "0"
        ],
        [
         "32",
         "59.1",
         "11",
         "1"
        ],
        [
         "33",
         "62.3",
         "27",
         "0"
        ],
        [
         "34",
         "81.5",
         "9",
         "0"
        ],
        [
         "35",
         "74.8",
         "12",
         "0"
        ],
        [
         "36",
         "68.5",
         "16",
         "1"
        ],
        [
         "37",
         "85.1",
         "9",
         "1"
        ],
        [
         "38",
         "65.8",
         "20",
         "1"
        ],
        [
         "39",
         "72.5",
         "17",
         "0"
        ],
        [
         "40",
         "66.0",
         "86",
         "1"
        ],
        [
         "41",
         "67.0",
         "38",
         "0"
        ],
        [
         "42",
         "74.6",
         "71",
         "1"
        ],
        [
         "43",
         "78.5",
         "63",
         "0"
        ],
        [
         "44",
         "78.8",
         "55",
         "0"
        ],
        [
         "45",
         "69.2",
         "10",
         "1"
        ],
        [
         "46",
         "73.0",
         "15",
         "0"
        ],
        [
         "47",
         "69.2",
         "46",
         "0"
        ],
        [
         "48",
         "62.9",
         "42",
         "0"
        ],
        [
         "49",
         "82.3",
         "28",
         "1"
        ]
       ],
       "shape": {
        "columns": 3,
        "rows": 1000
       }
      },
      "text/html": [
       "<div>\n",
       "<style scoped>\n",
       "    .dataframe tbody tr th:only-of-type {\n",
       "        vertical-align: middle;\n",
       "    }\n",
       "\n",
       "    .dataframe tbody tr th {\n",
       "        vertical-align: top;\n",
       "    }\n",
       "\n",
       "    .dataframe thead th {\n",
       "        text-align: right;\n",
       "    }\n",
       "</style>\n",
       "<table border=\"1\" class=\"dataframe\">\n",
       "  <thead>\n",
       "    <tr style=\"text-align: right;\">\n",
       "      <th></th>\n",
       "      <th>semester_percentage</th>\n",
       "      <th>scholarship_exam_marks</th>\n",
       "      <th>got_scholarship</th>\n",
       "    </tr>\n",
       "  </thead>\n",
       "  <tbody>\n",
       "    <tr>\n",
       "      <th>0</th>\n",
       "      <td>71.9</td>\n",
       "      <td>26</td>\n",
       "      <td>1</td>\n",
       "    </tr>\n",
       "    <tr>\n",
       "      <th>1</th>\n",
       "      <td>74.6</td>\n",
       "      <td>38</td>\n",
       "      <td>1</td>\n",
       "    </tr>\n",
       "    <tr>\n",
       "      <th>2</th>\n",
       "      <td>75.4</td>\n",
       "      <td>40</td>\n",
       "      <td>1</td>\n",
       "    </tr>\n",
       "    <tr>\n",
       "      <th>3</th>\n",
       "      <td>64.2</td>\n",
       "      <td>8</td>\n",
       "      <td>1</td>\n",
       "    </tr>\n",
       "    <tr>\n",
       "      <th>4</th>\n",
       "      <td>72.3</td>\n",
       "      <td>17</td>\n",
       "      <td>0</td>\n",
       "    </tr>\n",
       "    <tr>\n",
       "      <th>...</th>\n",
       "      <td>...</td>\n",
       "      <td>...</td>\n",
       "      <td>...</td>\n",
       "    </tr>\n",
       "    <tr>\n",
       "      <th>995</th>\n",
       "      <td>88.7</td>\n",
       "      <td>44</td>\n",
       "      <td>1</td>\n",
       "    </tr>\n",
       "    <tr>\n",
       "      <th>996</th>\n",
       "      <td>91.2</td>\n",
       "      <td>65</td>\n",
       "      <td>1</td>\n",
       "    </tr>\n",
       "    <tr>\n",
       "      <th>997</th>\n",
       "      <td>48.9</td>\n",
       "      <td>34</td>\n",
       "      <td>0</td>\n",
       "    </tr>\n",
       "    <tr>\n",
       "      <th>998</th>\n",
       "      <td>86.2</td>\n",
       "      <td>46</td>\n",
       "      <td>1</td>\n",
       "    </tr>\n",
       "    <tr>\n",
       "      <th>999</th>\n",
       "      <td>49.0</td>\n",
       "      <td>10</td>\n",
       "      <td>1</td>\n",
       "    </tr>\n",
       "  </tbody>\n",
       "</table>\n",
       "<p>1000 rows × 3 columns</p>\n",
       "</div>"
      ],
      "text/plain": [
       "     semester_percentage  scholarship_exam_marks  got_scholarship\n",
       "0                   71.9                      26                1\n",
       "1                   74.6                      38                1\n",
       "2                   75.4                      40                1\n",
       "3                   64.2                       8                1\n",
       "4                   72.3                      17                0\n",
       "..                   ...                     ...              ...\n",
       "995                 88.7                      44                1\n",
       "996                 91.2                      65                1\n",
       "997                 48.9                      34                0\n",
       "998                 86.2                      46                1\n",
       "999                 49.0                      10                1\n",
       "\n",
       "[1000 rows x 3 columns]"
      ]
     },
     "execution_count": 51,
     "metadata": {},
     "output_type": "execute_result"
    }
   ],
   "source": [
    "df"
   ]
  },
  {
   "cell_type": "code",
   "execution_count": null,
   "metadata": {},
   "outputs": [
    {
     "data": {
      "text/plain": [
       "<seaborn.axisgrid.FacetGrid at 0x2660f3e13a0>"
      ]
     },
     "execution_count": 54,
     "metadata": {},
     "output_type": "execute_result"
    },
    {
     "data": {
      "image/png": "[encoded data removed]",
      "text/plain": [
       "<Figure size 500x500 with 1 Axes>"
      ]
     },
     "metadata": {},
     "output_type": "display_data"
    }
   ],
   "source": [
    "sns.displot(data['scholarship_exam_marks'], kde = True)\n",
    "#It is a skew distribution"
   ]
  },
  {
   "cell_type": "code",
   "execution_count": 55,
   "metadata": {},
   "outputs": [
    {
     "data": {
      "text/plain": [
       "<Axes: ylabel='scholarship_exam_marks'>"
      ]
     },
     "execution_count": 55,
     "metadata": {},
     "output_type": "execute_result"
    },
    {
     "data": {
      "image/png": "[encoded data removed]",
      "text/plain": [
       "<Figure size 640x480 with 1 Axes>"
      ]
     },
     "metadata": {},
     "output_type": "display_data"
    }
   ],
   "source": [
    "sns.boxplot(df['scholarship_exam_marks'])"
   ]
  },
  {
   "cell_type": "code",
   "execution_count": 56,
   "metadata": {},
   "outputs": [],
   "source": [
    "#Finding the Quartiles\n",
    "Q1 = df['scholarship_exam_marks'].quantile(0.25)\n",
    "Q3 = df['scholarship_exam_marks'].quantile(0.75)"
   ]
  },
  {
   "cell_type": "code",
   "execution_count": 70,
   "metadata": {},
   "outputs": [
    {
     "name": "stdout",
     "output_type": "stream",
     "text": [
      "17.0 44.0\n"
     ]
    }
   ],
   "source": [
    "print(Q1,Q3)"
   ]
  },
  {
   "cell_type": "code",
   "execution_count": 71,
   "metadata": {},
   "outputs": [
    {
     "data": {
      "text/plain": [
       "27.0"
      ]
     },
     "execution_count": 71,
     "metadata": {},
     "output_type": "execute_result"
    }
   ],
   "source": [
    "IQR = Q3 - Q1\n",
    "IQR"
   ]
  },
  {
   "cell_type": "code",
   "execution_count": 73,
   "metadata": {},
   "outputs": [
    {
     "data": {
      "application/vnd.microsoft.datawrangler.viewer.v0+json": {
       "columns": [
        {
         "name": "index",
         "rawType": "object",
         "type": "string"
        },
        {
         "name": "semester_percentage",
         "rawType": "float64",
         "type": "float"
        },
        {
         "name": "scholarship_exam_marks",
         "rawType": "float64",
         "type": "float"
        },
        {
         "name": "got_scholarship",
         "rawType": "float64",
         "type": "float"
        }
       ],
       "conversionMethod": "pd.DataFrame",
       "ref": "d067d606-8b0f-48fe-a310-4a7f82efff88",
       "rows": [
        [
         "count",
         "1000.0",
         "1000.0",
         "1000.0"
        ],
        [
         "mean",
         "69.6124",
         "32.225",
         "0.489"
        ],
        [
         "std",
         "6.158978751323897",
         "19.13082233892112",
         "0.5001291124591021"
        ],
        [
         "min",
         "48.9",
         "0.0",
         "0.0"
        ],
        [
         "25%",
         "65.5",
         "17.0",
         "0.0"
        ],
        [
         "50%",
         "69.6",
         "28.0",
         "0.0"
        ],
        [
         "75%",
         "73.7",
         "44.0",
         "1.0"
        ],
        [
         "max",
         "91.2",
         "100.0",
         "1.0"
        ]
       ],
       "shape": {
        "columns": 3,
        "rows": 8
       }
      },
      "text/html": [
       "<div>\n",
       "<style scoped>\n",
       "    .dataframe tbody tr th:only-of-type {\n",
       "        vertical-align: middle;\n",
       "    }\n",
       "\n",
       "    .dataframe tbody tr th {\n",
       "        vertical-align: top;\n",
       "    }\n",
       "\n",
       "    .dataframe thead th {\n",
       "        text-align: right;\n",
       "    }\n",
       "</style>\n",
       "<table border=\"1\" class=\"dataframe\">\n",
       "  <thead>\n",
       "    <tr style=\"text-align: right;\">\n",
       "      <th></th>\n",
       "      <th>semester_percentage</th>\n",
       "      <th>scholarship_exam_marks</th>\n",
       "      <th>got_scholarship</th>\n",
       "    </tr>\n",
       "  </thead>\n",
       "  <tbody>\n",
       "    <tr>\n",
       "      <th>count</th>\n",
       "      <td>1000.000000</td>\n",
       "      <td>1000.000000</td>\n",
       "      <td>1000.000000</td>\n",
       "    </tr>\n",
       "    <tr>\n",
       "      <th>mean</th>\n",
       "      <td>69.612400</td>\n",
       "      <td>32.225000</td>\n",
       "      <td>0.489000</td>\n",
       "    </tr>\n",
       "    <tr>\n",
       "      <th>std</th>\n",
       "      <td>6.158979</td>\n",
       "      <td>19.130822</td>\n",
       "      <td>0.500129</td>\n",
       "    </tr>\n",
       "    <tr>\n",
       "      <th>min</th>\n",
       "      <td>48.900000</td>\n",
       "      <td>0.000000</td>\n",
       "      <td>0.000000</td>\n",
       "    </tr>\n",
       "    <tr>\n",
       "      <th>25%</th>\n",
       "      <td>65.500000</td>\n",
       "      <td>17.000000</td>\n",
       "      <td>0.000000</td>\n",
       "    </tr>\n",
       "    <tr>\n",
       "      <th>50%</th>\n",
       "      <td>69.600000</td>\n",
       "      <td>28.000000</td>\n",
       "      <td>0.000000</td>\n",
       "    </tr>\n",
       "    <tr>\n",
       "      <th>75%</th>\n",
       "      <td>73.700000</td>\n",
       "      <td>44.000000</td>\n",
       "      <td>1.000000</td>\n",
       "    </tr>\n",
       "    <tr>\n",
       "      <th>max</th>\n",
       "      <td>91.200000</td>\n",
       "      <td>100.000000</td>\n",
       "      <td>1.000000</td>\n",
       "    </tr>\n",
       "  </tbody>\n",
       "</table>\n",
       "</div>"
      ],
      "text/plain": [
       "       semester_percentage  scholarship_exam_marks  got_scholarship\n",
       "count          1000.000000             1000.000000      1000.000000\n",
       "mean             69.612400               32.225000         0.489000\n",
       "std               6.158979               19.130822         0.500129\n",
       "min              48.900000                0.000000         0.000000\n",
       "25%              65.500000               17.000000         0.000000\n",
       "50%              69.600000               28.000000         0.000000\n",
       "75%              73.700000               44.000000         1.000000\n",
       "max              91.200000              100.000000         1.000000"
      ]
     },
     "execution_count": 73,
     "metadata": {},
     "output_type": "execute_result"
    }
   ],
   "source": [
    "df.describe()"
   ]
  },
  {
   "cell_type": "code",
   "execution_count": 74,
   "metadata": {},
   "outputs": [
    {
     "name": "stdout",
     "output_type": "stream",
     "text": [
      "-23.5 84.5\n"
     ]
    }
   ],
   "source": [
    "min = Q1 - 1.5*IQR\n",
    "max = Q3 + 1.5*IQR\n",
    "print(min, max)"
   ]
  },
  {
   "cell_type": "code",
   "execution_count": null,
   "metadata": {},
   "outputs": [
    {
     "data": {
      "application/vnd.microsoft.datawrangler.viewer.v0+json": {
       "columns": [
        {
         "name": "index",
         "rawType": "int64",
         "type": "integer"
        },
        {
         "name": "semester_percentage",
         "rawType": "float64",
         "type": "float"
        },
        {
         "name": "scholarship_exam_marks",
         "rawType": "int64",
         "type": "integer"
        },
        {
         "name": "got_scholarship",
         "rawType": "int64",
         "type": "integer"
        }
       ],
       "conversionMethod": "pd.DataFrame",
       "ref": "6d5d9b76-7a01-48cb-bda9-9611fb31edc8",
       "rows": [
        [
         "9",
         "77.5",
         "94",
         "1"
        ],
        [
         "40",
         "66.0",
         "86",
         "1"
        ],
        [
         "61",
         "75.1",
         "86",
         "0"
        ],
        [
         "134",
         "63.3",
         "93",
         "0"
        ],
        [
         "162",
         "78.0",
         "90",
         "0"
        ],
        [
         "283",
         "70.9",
         "87",
         "0"
        ],
        [
         "290",
         "83.8",
         "87",
         "0"
        ],
        [
         "311",
         "69.7",
         "87",
         "1"
        ],
        [
         "324",
         "66.4",
         "90",
         "0"
        ],
        [
         "630",
         "65.6",
         "96",
         "1"
        ],
        [
         "685",
         "60.5",
         "87",
         "1"
        ],
        [
         "730",
         "61.4",
         "90",
         "1"
        ],
        [
         "771",
         "73.1",
         "86",
         "1"
        ],
        [
         "846",
         "69.9",
         "97",
         "0"
        ],
        [
         "917",
         "59.5",
         "100",
         "0"
        ]
       ],
       "shape": {
        "columns": 3,
        "rows": 15
       }
      },
      "text/html": [
       "<div>\n",
       "<style scoped>\n",
       "    .dataframe tbody tr th:only-of-type {\n",
       "        vertical-align: middle;\n",
       "    }\n",
       "\n",
       "    .dataframe tbody tr th {\n",
       "        vertical-align: top;\n",
       "    }\n",
       "\n",
       "    .dataframe thead th {\n",
       "        text-align: right;\n",
       "    }\n",
       "</style>\n",
       "<table border=\"1\" class=\"dataframe\">\n",
       "  <thead>\n",
       "    <tr style=\"text-align: right;\">\n",
       "      <th></th>\n",
       "      <th>semester_percentage</th>\n",
       "      <th>scholarship_exam_marks</th>\n",
       "      <th>got_scholarship</th>\n",
       "    </tr>\n",
       "  </thead>\n",
       "  <tbody>\n",
       "    <tr>\n",
       "      <th>9</th>\n",
       "      <td>77.5</td>\n",
       "      <td>94</td>\n",
       "      <td>1</td>\n",
       "    </tr>\n",
       "    <tr>\n",
       "      <th>40</th>\n",
       "      <td>66.0</td>\n",
       "      <td>86</td>\n",
       "      <td>1</td>\n",
       "    </tr>\n",
       "    <tr>\n",
       "      <th>61</th>\n",
       "      <td>75.1</td>\n",
       "      <td>86</td>\n",
       "      <td>0</td>\n",
       "    </tr>\n",
       "    <tr>\n",
       "      <th>134</th>\n",
       "      <td>63.3</td>\n",
       "      <td>93</td>\n",
       "      <td>0</td>\n",
       "    </tr>\n",
       "    <tr>\n",
       "      <th>162</th>\n",
       "      <td>78.0</td>\n",
       "      <td>90</td>\n",
       "      <td>0</td>\n",
       "    </tr>\n",
       "    <tr>\n",
       "      <th>283</th>\n",
       "      <td>70.9</td>\n",
       "      <td>87</td>\n",
       "      <td>0</td>\n",
       "    </tr>\n",
       "    <tr>\n",
       "      <th>290</th>\n",
       "      <td>83.8</td>\n",
       "      <td>87</td>\n",
       "      <td>0</td>\n",
       "    </tr>\n",
       "    <tr>\n",
       "      <th>311</th>\n",
       "      <td>69.7</td>\n",
       "      <td>87</td>\n",
       "      <td>1</td>\n",
       "    </tr>\n",
       "    <tr>\n",
       "      <th>324</th>\n",
       "      <td>66.4</td>\n",
       "      <td>90</td>\n",
       "      <td>0</td>\n",
       "    </tr>\n",
       "    <tr>\n",
       "      <th>630</th>\n",
       "      <td>65.6</td>\n",
       "      <td>96</td>\n",
       "      <td>1</td>\n",
       "    </tr>\n",
       "    <tr>\n",
       "      <th>685</th>\n",
       "      <td>60.5</td>\n",
       "      <td>87</td>\n",
       "      <td>1</td>\n",
       "    </tr>\n",
       "    <tr>\n",
       "      <th>730</th>\n",
       "      <td>61.4</td>\n",
       "      <td>90</td>\n",
       "      <td>1</td>\n",
       "    </tr>\n",
       "    <tr>\n",
       "      <th>771</th>\n",
       "      <td>73.1</td>\n",
       "      <td>86</td>\n",
       "      <td>1</td>\n",
       "    </tr>\n",
       "    <tr>\n",
       "      <th>846</th>\n",
       "      <td>69.9</td>\n",
       "      <td>97</td>\n",
       "      <td>0</td>\n",
       "    </tr>\n",
       "    <tr>\n",
       "      <th>917</th>\n",
       "      <td>59.5</td>\n",
       "      <td>100</td>\n",
       "      <td>0</td>\n",
       "    </tr>\n",
       "  </tbody>\n",
       "</table>\n",
       "</div>"
      ],
      "text/plain": [
       "     semester_percentage  scholarship_exam_marks  got_scholarship\n",
       "9                   77.5                      94                1\n",
       "40                  66.0                      86                1\n",
       "61                  75.1                      86                0\n",
       "134                 63.3                      93                0\n",
       "162                 78.0                      90                0\n",
       "283                 70.9                      87                0\n",
       "290                 83.8                      87                0\n",
       "311                 69.7                      87                1\n",
       "324                 66.4                      90                0\n",
       "630                 65.6                      96                1\n",
       "685                 60.5                      87                1\n",
       "730                 61.4                      90                1\n",
       "771                 73.1                      86                1\n",
       "846                 69.9                      97                0\n",
       "917                 59.5                     100                0"
      ]
     },
     "execution_count": 75,
     "metadata": {},
     "output_type": "execute_result"
    }
   ],
   "source": [
    "#Finding the outliers using the Quartiles\n",
    "df[(df['scholarship_exam_marks']<min) | (df['scholarship_exam_marks']>max)]\n",
    "#15 rows having the outliers"
   ]
  },
  {
   "cell_type": "code",
   "execution_count": 84,
   "metadata": {},
   "outputs": [],
   "source": [
    "# Now we have 2 options \n",
    "#1. Trimming - cutting all the values that are outliers\n",
    "#2. Capping - Adding some useful values to the outliers So that It can contribute to the Analysis."
   ]
  },
  {
   "cell_type": "markdown",
   "metadata": {},
   "source": [
    "Trimming\n"
   ]
  },
  {
   "cell_type": "code",
   "execution_count": 77,
   "metadata": {},
   "outputs": [
    {
     "data": {
      "application/vnd.microsoft.datawrangler.viewer.v0+json": {
       "columns": [
        {
         "name": "index",
         "rawType": "int64",
         "type": "integer"
        },
        {
         "name": "semester_percentage",
         "rawType": "float64",
         "type": "float"
        },
        {
         "name": "scholarship_exam_marks",
         "rawType": "int64",
         "type": "integer"
        },
        {
         "name": "got_scholarship",
         "rawType": "int64",
         "type": "integer"
        }
       ],
       "conversionMethod": "pd.DataFrame",
       "ref": "ab45f0f1-0c65-48c0-9cb9-6fbd516a9143",
       "rows": [
        [
         "0",
         "71.9",
         "26",
         "1"
        ],
        [
         "1",
         "74.6",
         "38",
         "1"
        ],
        [
         "2",
         "75.4",
         "40",
         "1"
        ],
        [
         "3",
         "64.2",
         "8",
         "1"
        ],
        [
         "4",
         "72.3",
         "17",
         "0"
        ],
        [
         "5",
         "73.0",
         "23",
         "1"
        ],
        [
         "6",
         "66.9",
         "11",
         "0"
        ],
        [
         "7",
         "71.2",
         "39",
         "1"
        ],
        [
         "8",
         "64.5",
         "38",
         "0"
        ],
        [
         "10",
         "68.2",
         "16",
         "1"
        ],
        [
         "11",
         "63.8",
         "7",
         "1"
        ],
        [
         "12",
         "65.8",
         "16",
         "1"
        ],
        [
         "13",
         "56.8",
         "26",
         "0"
        ],
        [
         "14",
         "79.1",
         "43",
         "0"
        ],
        [
         "15",
         "71.0",
         "21",
         "0"
        ],
        [
         "16",
         "65.3",
         "19",
         "0"
        ],
        [
         "17",
         "75.6",
         "22",
         "1"
        ],
        [
         "18",
         "69.3",
         "27",
         "0"
        ],
        [
         "19",
         "76.3",
         "29",
         "0"
        ],
        [
         "20",
         "66.9",
         "47",
         "0"
        ],
        [
         "21",
         "74.3",
         "33",
         "1"
        ],
        [
         "22",
         "67.6",
         "54",
         "1"
        ],
        [
         "23",
         "60.5",
         "11",
         "0"
        ],
        [
         "24",
         "64.4",
         "11",
         "0"
        ],
        [
         "25",
         "62.8",
         "58",
         "1"
        ],
        [
         "26",
         "74.5",
         "8",
         "1"
        ],
        [
         "27",
         "65.3",
         "46",
         "0"
        ],
        [
         "28",
         "72.3",
         "19",
         "0"
        ],
        [
         "29",
         "65.1",
         "15",
         "1"
        ],
        [
         "30",
         "74.6",
         "16",
         "0"
        ],
        [
         "31",
         "76.6",
         "44",
         "0"
        ],
        [
         "32",
         "59.1",
         "11",
         "1"
        ],
        [
         "33",
         "62.3",
         "27",
         "0"
        ],
        [
         "34",
         "81.5",
         "9",
         "0"
        ],
        [
         "35",
         "74.8",
         "12",
         "0"
        ],
        [
         "36",
         "68.5",
         "16",
         "1"
        ],
        [
         "37",
         "85.1",
         "9",
         "1"
        ],
        [
         "38",
         "65.8",
         "20",
         "1"
        ],
        [
         "39",
         "72.5",
         "17",
         "0"
        ],
        [
         "41",
         "67.0",
         "38",
         "0"
        ],
        [
         "42",
         "74.6",
         "71",
         "1"
        ],
        [
         "43",
         "78.5",
         "63",
         "0"
        ],
        [
         "44",
         "78.8",
         "55",
         "0"
        ],
        [
         "45",
         "69.2",
         "10",
         "1"
        ],
        [
         "46",
         "73.0",
         "15",
         "0"
        ],
        [
         "47",
         "69.2",
         "46",
         "0"
        ],
        [
         "48",
         "62.9",
         "42",
         "0"
        ],
        [
         "49",
         "82.3",
         "28",
         "1"
        ],
        [
         "50",
         "62.0",
         "18",
         "1"
        ],
        [
         "51",
         "62.4",
         "28",
         "1"
        ]
       ],
       "shape": {
        "columns": 3,
        "rows": 985
       }
      },
      "text/html": [
       "<div>\n",
       "<style scoped>\n",
       "    .dataframe tbody tr th:only-of-type {\n",
       "        vertical-align: middle;\n",
       "    }\n",
       "\n",
       "    .dataframe tbody tr th {\n",
       "        vertical-align: top;\n",
       "    }\n",
       "\n",
       "    .dataframe thead th {\n",
       "        text-align: right;\n",
       "    }\n",
       "</style>\n",
       "<table border=\"1\" class=\"dataframe\">\n",
       "  <thead>\n",
       "    <tr style=\"text-align: right;\">\n",
       "      <th></th>\n",
       "      <th>semester_percentage</th>\n",
       "      <th>scholarship_exam_marks</th>\n",
       "      <th>got_scholarship</th>\n",
       "    </tr>\n",
       "  </thead>\n",
       "  <tbody>\n",
       "    <tr>\n",
       "      <th>0</th>\n",
       "      <td>71.9</td>\n",
       "      <td>26</td>\n",
       "      <td>1</td>\n",
       "    </tr>\n",
       "    <tr>\n",
       "      <th>1</th>\n",
       "      <td>74.6</td>\n",
       "      <td>38</td>\n",
       "      <td>1</td>\n",
       "    </tr>\n",
       "    <tr>\n",
       "      <th>2</th>\n",
       "      <td>75.4</td>\n",
       "      <td>40</td>\n",
       "      <td>1</td>\n",
       "    </tr>\n",
       "    <tr>\n",
       "      <th>3</th>\n",
       "      <td>64.2</td>\n",
       "      <td>8</td>\n",
       "      <td>1</td>\n",
       "    </tr>\n",
       "    <tr>\n",
       "      <th>4</th>\n",
       "      <td>72.3</td>\n",
       "      <td>17</td>\n",
       "      <td>0</td>\n",
       "    </tr>\n",
       "    <tr>\n",
       "      <th>...</th>\n",
       "      <td>...</td>\n",
       "      <td>...</td>\n",
       "      <td>...</td>\n",
       "    </tr>\n",
       "    <tr>\n",
       "      <th>995</th>\n",
       "      <td>88.7</td>\n",
       "      <td>44</td>\n",
       "      <td>1</td>\n",
       "    </tr>\n",
       "    <tr>\n",
       "      <th>996</th>\n",
       "      <td>91.2</td>\n",
       "      <td>65</td>\n",
       "      <td>1</td>\n",
       "    </tr>\n",
       "    <tr>\n",
       "      <th>997</th>\n",
       "      <td>48.9</td>\n",
       "      <td>34</td>\n",
       "      <td>0</td>\n",
       "    </tr>\n",
       "    <tr>\n",
       "      <th>998</th>\n",
       "      <td>86.2</td>\n",
       "      <td>46</td>\n",
       "      <td>1</td>\n",
       "    </tr>\n",
       "    <tr>\n",
       "      <th>999</th>\n",
       "      <td>49.0</td>\n",
       "      <td>10</td>\n",
       "      <td>1</td>\n",
       "    </tr>\n",
       "  </tbody>\n",
       "</table>\n",
       "<p>985 rows × 3 columns</p>\n",
       "</div>"
      ],
      "text/plain": [
       "     semester_percentage  scholarship_exam_marks  got_scholarship\n",
       "0                   71.9                      26                1\n",
       "1                   74.6                      38                1\n",
       "2                   75.4                      40                1\n",
       "3                   64.2                       8                1\n",
       "4                   72.3                      17                0\n",
       "..                   ...                     ...              ...\n",
       "995                 88.7                      44                1\n",
       "996                 91.2                      65                1\n",
       "997                 48.9                      34                0\n",
       "998                 86.2                      46                1\n",
       "999                 49.0                      10                1\n",
       "\n",
       "[985 rows x 3 columns]"
      ]
     },
     "execution_count": 77,
     "metadata": {},
     "output_type": "execute_result"
    }
   ],
   "source": [
    "#printing the data without the outliers\n",
    "df[(df['scholarship_exam_marks']<max) & (df['scholarship_exam_marks']>min)]\n",
    "#985 rows has no outliers"
   ]
  },
  {
   "cell_type": "code",
   "execution_count": 83,
   "metadata": {},
   "outputs": [
    {
     "data": {
      "application/vnd.microsoft.datawrangler.viewer.v0+json": {
       "columns": [
        {
         "name": "index",
         "rawType": "int64",
         "type": "integer"
        },
        {
         "name": "semester_percentage",
         "rawType": "float64",
         "type": "float"
        },
        {
         "name": "scholarship_exam_marks",
         "rawType": "int64",
         "type": "integer"
        },
        {
         "name": "got_scholarship",
         "rawType": "int64",
         "type": "integer"
        }
       ],
       "conversionMethod": "pd.DataFrame",
       "ref": "e2883a65-e0b4-433f-b26b-b3d88b5490c5",
       "rows": [
        [
         "0",
         "71.9",
         "26",
         "1"
        ],
        [
         "1",
         "74.6",
         "38",
         "1"
        ],
        [
         "2",
         "75.4",
         "40",
         "1"
        ],
        [
         "3",
         "64.2",
         "8",
         "1"
        ],
        [
         "4",
         "72.3",
         "17",
         "0"
        ],
        [
         "5",
         "73.0",
         "23",
         "1"
        ],
        [
         "6",
         "66.9",
         "11",
         "0"
        ],
        [
         "7",
         "71.2",
         "39",
         "1"
        ],
        [
         "8",
         "64.5",
         "38",
         "0"
        ],
        [
         "10",
         "68.2",
         "16",
         "1"
        ],
        [
         "11",
         "63.8",
         "7",
         "1"
        ],
        [
         "12",
         "65.8",
         "16",
         "1"
        ],
        [
         "13",
         "56.8",
         "26",
         "0"
        ],
        [
         "14",
         "79.1",
         "43",
         "0"
        ],
        [
         "15",
         "71.0",
         "21",
         "0"
        ],
        [
         "16",
         "65.3",
         "19",
         "0"
        ],
        [
         "17",
         "75.6",
         "22",
         "1"
        ],
        [
         "18",
         "69.3",
         "27",
         "0"
        ],
        [
         "19",
         "76.3",
         "29",
         "0"
        ],
        [
         "20",
         "66.9",
         "47",
         "0"
        ],
        [
         "21",
         "74.3",
         "33",
         "1"
        ],
        [
         "22",
         "67.6",
         "54",
         "1"
        ],
        [
         "23",
         "60.5",
         "11",
         "0"
        ],
        [
         "24",
         "64.4",
         "11",
         "0"
        ],
        [
         "25",
         "62.8",
         "58",
         "1"
        ],
        [
         "26",
         "74.5",
         "8",
         "1"
        ],
        [
         "27",
         "65.3",
         "46",
         "0"
        ],
        [
         "28",
         "72.3",
         "19",
         "0"
        ],
        [
         "29",
         "65.1",
         "15",
         "1"
        ],
        [
         "30",
         "74.6",
         "16",
         "0"
        ],
        [
         "31",
         "76.6",
         "44",
         "0"
        ],
        [
         "32",
         "59.1",
         "11",
         "1"
        ],
        [
         "33",
         "62.3",
         "27",
         "0"
        ],
        [
         "34",
         "81.5",
         "9",
         "0"
        ],
        [
         "35",
         "74.8",
         "12",
         "0"
        ],
        [
         "36",
         "68.5",
         "16",
         "1"
        ],
        [
         "37",
         "85.1",
         "9",
         "1"
        ],
        [
         "38",
         "65.8",
         "20",
         "1"
        ],
        [
         "39",
         "72.5",
         "17",
         "0"
        ],
        [
         "41",
         "67.0",
         "38",
         "0"
        ],
        [
         "42",
         "74.6",
         "71",
         "1"
        ],
        [
         "43",
         "78.5",
         "63",
         "0"
        ],
        [
         "44",
         "78.8",
         "55",
         "0"
        ],
        [
         "45",
         "69.2",
         "10",
         "1"
        ],
        [
         "46",
         "73.0",
         "15",
         "0"
        ],
        [
         "47",
         "69.2",
         "46",
         "0"
        ],
        [
         "48",
         "62.9",
         "42",
         "0"
        ],
        [
         "49",
         "82.3",
         "28",
         "1"
        ],
        [
         "50",
         "62.0",
         "18",
         "1"
        ],
        [
         "51",
         "62.4",
         "28",
         "1"
        ]
       ],
       "shape": {
        "columns": 3,
        "rows": 985
       }
      },
      "text/html": [
       "<div>\n",
       "<style scoped>\n",
       "    .dataframe tbody tr th:only-of-type {\n",
       "        vertical-align: middle;\n",
       "    }\n",
       "\n",
       "    .dataframe tbody tr th {\n",
       "        vertical-align: top;\n",
       "    }\n",
       "\n",
       "    .dataframe thead th {\n",
       "        text-align: right;\n",
       "    }\n",
       "</style>\n",
       "<table border=\"1\" class=\"dataframe\">\n",
       "  <thead>\n",
       "    <tr style=\"text-align: right;\">\n",
       "      <th></th>\n",
       "      <th>semester_percentage</th>\n",
       "      <th>scholarship_exam_marks</th>\n",
       "      <th>got_scholarship</th>\n",
       "    </tr>\n",
       "  </thead>\n",
       "  <tbody>\n",
       "    <tr>\n",
       "      <th>0</th>\n",
       "      <td>71.9</td>\n",
       "      <td>26</td>\n",
       "      <td>1</td>\n",
       "    </tr>\n",
       "    <tr>\n",
       "      <th>1</th>\n",
       "      <td>74.6</td>\n",
       "      <td>38</td>\n",
       "      <td>1</td>\n",
       "    </tr>\n",
       "    <tr>\n",
       "      <th>2</th>\n",
       "      <td>75.4</td>\n",
       "      <td>40</td>\n",
       "      <td>1</td>\n",
       "    </tr>\n",
       "    <tr>\n",
       "      <th>3</th>\n",
       "      <td>64.2</td>\n",
       "      <td>8</td>\n",
       "      <td>1</td>\n",
       "    </tr>\n",
       "    <tr>\n",
       "      <th>4</th>\n",
       "      <td>72.3</td>\n",
       "      <td>17</td>\n",
       "      <td>0</td>\n",
       "    </tr>\n",
       "    <tr>\n",
       "      <th>...</th>\n",
       "      <td>...</td>\n",
       "      <td>...</td>\n",
       "      <td>...</td>\n",
       "    </tr>\n",
       "    <tr>\n",
       "      <th>995</th>\n",
       "      <td>88.7</td>\n",
       "      <td>44</td>\n",
       "      <td>1</td>\n",
       "    </tr>\n",
       "    <tr>\n",
       "      <th>996</th>\n",
       "      <td>91.2</td>\n",
       "      <td>65</td>\n",
       "      <td>1</td>\n",
       "    </tr>\n",
       "    <tr>\n",
       "      <th>997</th>\n",
       "      <td>48.9</td>\n",
       "      <td>34</td>\n",
       "      <td>0</td>\n",
       "    </tr>\n",
       "    <tr>\n",
       "      <th>998</th>\n",
       "      <td>86.2</td>\n",
       "      <td>46</td>\n",
       "      <td>1</td>\n",
       "    </tr>\n",
       "    <tr>\n",
       "      <th>999</th>\n",
       "      <td>49.0</td>\n",
       "      <td>10</td>\n",
       "      <td>1</td>\n",
       "    </tr>\n",
       "  </tbody>\n",
       "</table>\n",
       "<p>985 rows × 3 columns</p>\n",
       "</div>"
      ],
      "text/plain": [
       "     semester_percentage  scholarship_exam_marks  got_scholarship\n",
       "0                   71.9                      26                1\n",
       "1                   74.6                      38                1\n",
       "2                   75.4                      40                1\n",
       "3                   64.2                       8                1\n",
       "4                   72.3                      17                0\n",
       "..                   ...                     ...              ...\n",
       "995                 88.7                      44                1\n",
       "996                 91.2                      65                1\n",
       "997                 48.9                      34                0\n",
       "998                 86.2                      46                1\n",
       "999                 49.0                      10                1\n",
       "\n",
       "[985 rows x 3 columns]"
      ]
     },
     "execution_count": 83,
     "metadata": {},
     "output_type": "execute_result"
    }
   ],
   "source": [
    "new_df = df[(df['scholarship_exam_marks']<max) & (df['scholarship_exam_marks']>min)]\n",
    "new_df"
   ]
  },
  {
   "cell_type": "code",
   "execution_count": 94,
   "metadata": {},
   "outputs": [
    {
     "data": {
      "image/png": "[encoded data removed]",
      "text/plain": [
       "<Figure size 1600x800 with 4 Axes>"
      ]
     },
     "metadata": {},
     "output_type": "display_data"
    }
   ],
   "source": [
    "plt.figure(figsize=[16,8])\n",
    "plt.subplot(2,2,1)\n",
    "sns.histplot(df['scholarship_exam_marks'], kde=True)\n",
    "\n",
    "plt.subplot(2,2,2)\n",
    "sns.boxplot(df['scholarship_exam_marks'])\n",
    "\n",
    "plt.subplot(2,2,3)\n",
    "sns.histplot(new_df['scholarship_exam_marks'], kde = True)\n",
    "\n",
    "plt.subplot(2,2,4)\n",
    "sns.boxplot(new_df['scholarship_exam_marks'])\n",
    "\n",
    "plt.show()"
   ]
  },
  {
   "cell_type": "markdown",
   "metadata": {},
   "source": [
    "Capping"
   ]
  },
  {
   "cell_type": "code",
   "execution_count": 97,
   "metadata": {},
   "outputs": [
    {
     "data": {
      "application/vnd.microsoft.datawrangler.viewer.v0+json": {
       "columns": [
        {
         "name": "index",
         "rawType": "int64",
         "type": "integer"
        },
        {
         "name": "semester_percentage",
         "rawType": "float64",
         "type": "float"
        },
        {
         "name": "scholarship_exam_marks",
         "rawType": "float64",
         "type": "float"
        },
        {
         "name": "got_scholarship",
         "rawType": "int64",
         "type": "integer"
        }
       ],
       "conversionMethod": "pd.DataFrame",
       "ref": "c16f591c-5dd5-468c-8a77-7c58688ec441",
       "rows": [
        [
         "0",
         "71.9",
         "26.0",
         "1"
        ],
        [
         "1",
         "74.6",
         "38.0",
         "1"
        ],
        [
         "2",
         "75.4",
         "40.0",
         "1"
        ],
        [
         "3",
         "64.2",
         "8.0",
         "1"
        ],
        [
         "4",
         "72.3",
         "17.0",
         "0"
        ],
        [
         "5",
         "73.0",
         "23.0",
         "1"
        ],
        [
         "6",
         "66.9",
         "11.0",
         "0"
        ],
        [
         "7",
         "71.2",
         "39.0",
         "1"
        ],
        [
         "8",
         "64.5",
         "38.0",
         "0"
        ],
        [
         "9",
         "77.5",
         "84.5",
         "1"
        ],
        [
         "10",
         "68.2",
         "16.0",
         "1"
        ],
        [
         "11",
         "63.8",
         "7.0",
         "1"
        ],
        [
         "12",
         "65.8",
         "16.0",
         "1"
        ],
        [
         "13",
         "56.8",
         "26.0",
         "0"
        ],
        [
         "14",
         "79.1",
         "43.0",
         "0"
        ],
        [
         "15",
         "71.0",
         "21.0",
         "0"
        ],
        [
         "16",
         "65.3",
         "19.0",
         "0"
        ],
        [
         "17",
         "75.6",
         "22.0",
         "1"
        ],
        [
         "18",
         "69.3",
         "27.0",
         "0"
        ],
        [
         "19",
         "76.3",
         "29.0",
         "0"
        ],
        [
         "20",
         "66.9",
         "47.0",
         "0"
        ],
        [
         "21",
         "74.3",
         "33.0",
         "1"
        ],
        [
         "22",
         "67.6",
         "54.0",
         "1"
        ],
        [
         "23",
         "60.5",
         "11.0",
         "0"
        ],
        [
         "24",
         "64.4",
         "11.0",
         "0"
        ],
        [
         "25",
         "62.8",
         "58.0",
         "1"
        ],
        [
         "26",
         "74.5",
         "8.0",
         "1"
        ],
        [
         "27",
         "65.3",
         "46.0",
         "0"
        ],
        [
         "28",
         "72.3",
         "19.0",
         "0"
        ],
        [
         "29",
         "65.1",
         "15.0",
         "1"
        ],
        [
         "30",
         "74.6",
         "16.0",
         "0"
        ],
        [
         "31",
         "76.6",
         "44.0",
         "0"
        ],
        [
         "32",
         "59.1",
         "11.0",
         "1"
        ],
        [
         "33",
         "62.3",
         "27.0",
         "0"
        ],
        [
         "34",
         "81.5",
         "9.0",
         "0"
        ],
        [
         "35",
         "74.8",
         "12.0",
         "0"
        ],
        [
         "36",
         "68.5",
         "16.0",
         "1"
        ],
        [
         "37",
         "85.1",
         "9.0",
         "1"
        ],
        [
         "38",
         "65.8",
         "20.0",
         "1"
        ],
        [
         "39",
         "72.5",
         "17.0",
         "0"
        ],
        [
         "40",
         "66.0",
         "84.5",
         "1"
        ],
        [
         "41",
         "67.0",
         "38.0",
         "0"
        ],
        [
         "42",
         "74.6",
         "71.0",
         "1"
        ],
        [
         "43",
         "78.5",
         "63.0",
         "0"
        ],
        [
         "44",
         "78.8",
         "55.0",
         "0"
        ],
        [
         "45",
         "69.2",
         "10.0",
         "1"
        ],
        [
         "46",
         "73.0",
         "15.0",
         "0"
        ],
        [
         "47",
         "69.2",
         "46.0",
         "0"
        ],
        [
         "48",
         "62.9",
         "42.0",
         "0"
        ],
        [
         "49",
         "82.3",
         "28.0",
         "1"
        ]
       ],
       "shape": {
        "columns": 3,
        "rows": 1000
       }
      },
      "text/html": [
       "<div>\n",
       "<style scoped>\n",
       "    .dataframe tbody tr th:only-of-type {\n",
       "        vertical-align: middle;\n",
       "    }\n",
       "\n",
       "    .dataframe tbody tr th {\n",
       "        vertical-align: top;\n",
       "    }\n",
       "\n",
       "    .dataframe thead th {\n",
       "        text-align: right;\n",
       "    }\n",
       "</style>\n",
       "<table border=\"1\" class=\"dataframe\">\n",
       "  <thead>\n",
       "    <tr style=\"text-align: right;\">\n",
       "      <th></th>\n",
       "      <th>semester_percentage</th>\n",
       "      <th>scholarship_exam_marks</th>\n",
       "      <th>got_scholarship</th>\n",
       "    </tr>\n",
       "  </thead>\n",
       "  <tbody>\n",
       "    <tr>\n",
       "      <th>0</th>\n",
       "      <td>71.9</td>\n",
       "      <td>26.0</td>\n",
       "      <td>1</td>\n",
       "    </tr>\n",
       "    <tr>\n",
       "      <th>1</th>\n",
       "      <td>74.6</td>\n",
       "      <td>38.0</td>\n",
       "      <td>1</td>\n",
       "    </tr>\n",
       "    <tr>\n",
       "      <th>2</th>\n",
       "      <td>75.4</td>\n",
       "      <td>40.0</td>\n",
       "      <td>1</td>\n",
       "    </tr>\n",
       "    <tr>\n",
       "      <th>3</th>\n",
       "      <td>64.2</td>\n",
       "      <td>8.0</td>\n",
       "      <td>1</td>\n",
       "    </tr>\n",
       "    <tr>\n",
       "      <th>4</th>\n",
       "      <td>72.3</td>\n",
       "      <td>17.0</td>\n",
       "      <td>0</td>\n",
       "    </tr>\n",
       "    <tr>\n",
       "      <th>...</th>\n",
       "      <td>...</td>\n",
       "      <td>...</td>\n",
       "      <td>...</td>\n",
       "    </tr>\n",
       "    <tr>\n",
       "      <th>995</th>\n",
       "      <td>88.7</td>\n",
       "      <td>44.0</td>\n",
       "      <td>1</td>\n",
       "    </tr>\n",
       "    <tr>\n",
       "      <th>996</th>\n",
       "      <td>91.2</td>\n",
       "      <td>65.0</td>\n",
       "      <td>1</td>\n",
       "    </tr>\n",
       "    <tr>\n",
       "      <th>997</th>\n",
       "      <td>48.9</td>\n",
       "      <td>34.0</td>\n",
       "      <td>0</td>\n",
       "    </tr>\n",
       "    <tr>\n",
       "      <th>998</th>\n",
       "      <td>86.2</td>\n",
       "      <td>46.0</td>\n",
       "      <td>1</td>\n",
       "    </tr>\n",
       "    <tr>\n",
       "      <th>999</th>\n",
       "      <td>49.0</td>\n",
       "      <td>10.0</td>\n",
       "      <td>1</td>\n",
       "    </tr>\n",
       "  </tbody>\n",
       "</table>\n",
       "<p>1000 rows × 3 columns</p>\n",
       "</div>"
      ],
      "text/plain": [
       "     semester_percentage  scholarship_exam_marks  got_scholarship\n",
       "0                   71.9                    26.0                1\n",
       "1                   74.6                    38.0                1\n",
       "2                   75.4                    40.0                1\n",
       "3                   64.2                     8.0                1\n",
       "4                   72.3                    17.0                0\n",
       "..                   ...                     ...              ...\n",
       "995                 88.7                    44.0                1\n",
       "996                 91.2                    65.0                1\n",
       "997                 48.9                    34.0                0\n",
       "998                 86.2                    46.0                1\n",
       "999                 49.0                    10.0                1\n",
       "\n",
       "[1000 rows x 3 columns]"
      ]
     },
     "execution_count": 97,
     "metadata": {},
     "output_type": "execute_result"
    }
   ],
   "source": [
    "df['scholarship_exam_marks'] = np.where(df['scholarship_exam_marks']<min, min, \n",
    "                                        np.where(df['scholarship_exam_marks']>max, max, df['scholarship_exam_marks']))\n",
    "df"
   ]
  },
  {
   "cell_type": "code",
   "execution_count": 99,
   "metadata": {},
   "outputs": [
    {
     "data": {
      "application/vnd.microsoft.datawrangler.viewer.v0+json": {
       "columns": [
        {
         "name": "index",
         "rawType": "int64",
         "type": "integer"
        },
        {
         "name": "semester_percentage",
         "rawType": "float64",
         "type": "float"
        },
        {
         "name": "scholarship_exam_marks",
         "rawType": "float64",
         "type": "float"
        },
        {
         "name": "got_scholarship",
         "rawType": "int64",
         "type": "integer"
        }
       ],
       "conversionMethod": "pd.DataFrame",
       "ref": "3b83ff26-729f-47c1-a911-64b785a5fa4b",
       "rows": [],
       "shape": {
        "columns": 3,
        "rows": 0
       }
      },
      "text/html": [
       "<div>\n",
       "<style scoped>\n",
       "    .dataframe tbody tr th:only-of-type {\n",
       "        vertical-align: middle;\n",
       "    }\n",
       "\n",
       "    .dataframe tbody tr th {\n",
       "        vertical-align: top;\n",
       "    }\n",
       "\n",
       "    .dataframe thead th {\n",
       "        text-align: right;\n",
       "    }\n",
       "</style>\n",
       "<table border=\"1\" class=\"dataframe\">\n",
       "  <thead>\n",
       "    <tr style=\"text-align: right;\">\n",
       "      <th></th>\n",
       "      <th>semester_percentage</th>\n",
       "      <th>scholarship_exam_marks</th>\n",
       "      <th>got_scholarship</th>\n",
       "    </tr>\n",
       "  </thead>\n",
       "  <tbody>\n",
       "  </tbody>\n",
       "</table>\n",
       "</div>"
      ],
      "text/plain": [
       "Empty DataFrame\n",
       "Columns: [semester_percentage, scholarship_exam_marks, got_scholarship]\n",
       "Index: []"
      ]
     },
     "execution_count": 99,
     "metadata": {},
     "output_type": "execute_result"
    }
   ],
   "source": [
    "df[(df['scholarship_exam_marks']>max) & (df['scholarship_exam_marks']<min)]"
   ]
  },
  {
   "cell_type": "code",
   "execution_count": 101,
   "metadata": {},
   "outputs": [
    {
     "data": {
      "text/plain": [
       "<Axes: ylabel='scholarship_exam_marks'>"
      ]
     },
     "execution_count": 101,
     "metadata": {},
     "output_type": "execute_result"
    },
    {
     "data": {
      "image/png": "[encoded data removed]",
      "text/plain": [
       "<Figure size 640x480 with 1 Axes>"
      ]
     },
     "metadata": {},
     "output_type": "display_data"
    }
   ],
   "source": [
    "sns.boxplot(df['scholarship_exam_marks'])"
   ]
  },
  {
   "cell_type": "markdown",
   "metadata": {},
   "source": [
    "---------------------------------------------------------------------------------------------------------------------------\n",
    "Handling the Outliers using Percentile\n",
    "---------------------------------------------------------------------------------------------------------------------------"
   ]
  },
  {
   "cell_type": "code",
   "execution_count": null,
   "metadata": {},
   "outputs": [],
   "source": [
    "#This is also similar like IQR and Z-Score\n",
    "#There is different in finding the min and max values\n",
    "\n",
    "#min_limit = df['got_scholarship].quantile(0.01)\n",
    "#max_limit = df['got_scholarship].quantile(0.99)\n",
    "\n",
    "#finding the outliers\n",
    "#df[(df['got_scholarship]>max_limit | df['got_scholarship]<min_limit)]\n",
    "\n",
    "#Trimming  OR  Capping\n",
    "\n",
    "#Done"
   ]
  },
  {
   "cell_type": "markdown",
   "metadata": {},
   "source": [
    "---------------------------------------------------------------------------------------------------------------------------\n",
    "Correction Of Datatype\n",
    "---------------------------------------------------------------------------------------------------------------------------\n"
   ]
  },
  {
   "cell_type": "code",
   "execution_count": 103,
   "metadata": {},
   "outputs": [],
   "source": [
    "import pandas as pd\n",
    "import numpy as np\n",
    "import matplotlib.pyplot as plt\n"
   ]
  },
  {
   "cell_type": "code",
   "execution_count": 104,
   "metadata": {},
   "outputs": [],
   "source": [
    "data = pd.read_csv(\"AB_NYC_2019.csv\")"
   ]
  },
  {
   "cell_type": "code",
   "execution_count": 106,
   "metadata": {},
   "outputs": [
    {
     "data": {
      "application/vnd.microsoft.datawrangler.viewer.v0+json": {
       "columns": [
        {
         "name": "index",
         "rawType": "int64",
         "type": "integer"
        },
        {
         "name": "id",
         "rawType": "int64",
         "type": "integer"
        },
        {
         "name": "name",
         "rawType": "object",
         "type": "unknown"
        },
        {
         "name": "host_id",
         "rawType": "int64",
         "type": "integer"
        },
        {
         "name": "host_name",
         "rawType": "object",
         "type": "unknown"
        },
        {
         "name": "neighbourhood_group",
         "rawType": "object",
         "type": "string"
        },
        {
         "name": "neighbourhood",
         "rawType": "object",
         "type": "string"
        },
        {
         "name": "latitude",
         "rawType": "float64",
         "type": "float"
        },
        {
         "name": "longitude",
         "rawType": "float64",
         "type": "float"
        },
        {
         "name": "room_type",
         "rawType": "object",
         "type": "string"
        },
        {
         "name": "price",
         "rawType": "int64",
         "type": "integer"
        },
        {
         "name": "minimum_nights",
         "rawType": "int64",
         "type": "integer"
        },
        {
         "name": "number_of_reviews",
         "rawType": "int64",
         "type": "integer"
        },
        {
         "name": "last_review",
         "rawType": "object",
         "type": "unknown"
        },
        {
         "name": "reviews_per_month",
         "rawType": "float64",
         "type": "float"
        },
        {
         "name": "calculated_host_listings_count",
         "rawType": "int64",
         "type": "integer"
        },
        {
         "name": "availability_365",
         "rawType": "int64",
         "type": "integer"
        }
       ],
       "conversionMethod": "pd.DataFrame",
       "ref": "f34e1030-1987-4de2-a1aa-38339ac3d6af",
       "rows": [
        [
         "0",
         "2539",
         "Clean & quiet apt home by the park",
         "2787",
         "John",
         "Brooklyn",
         "Kensington",
         "40.64749",
         "-73.97237",
         "Private room",
         "149",
         "1",
         "9",
         "2018-10-19",
         "0.21",
         "6",
         "365"
        ],
        [
         "1",
         "2595",
         "Skylit Midtown Castle",
         "2845",
         "Jennifer",
         "Manhattan",
         "Midtown",
         "40.75362",
         "-73.98377",
         "Entire home/apt",
         "225",
         "1",
         "45",
         "2019-05-21",
         "0.38",
         "2",
         "355"
        ],
        [
         "2",
         "3647",
         "THE VILLAGE OF HARLEM....NEW YORK !",
         "4632",
         "Elisabeth",
         "Manhattan",
         "Harlem",
         "40.80902",
         "-73.9419",
         "Private room",
         "150",
         "3",
         "0",
         null,
         null,
         "1",
         "365"
        ],
        [
         "3",
         "3831",
         "Cozy Entire Floor of Brownstone",
         "4869",
         "LisaRoxanne",
         "Brooklyn",
         "Clinton Hill",
         "40.68514",
         "-73.95976",
         "Entire home/apt",
         "89",
         "1",
         "270",
         "2019-07-05",
         "4.64",
         "1",
         "194"
        ],
        [
         "4",
         "5022",
         "Entire Apt: Spacious Studio/Loft by central park",
         "7192",
         "Laura",
         "Manhattan",
         "East Harlem",
         "40.79851",
         "-73.94399",
         "Entire home/apt",
         "80",
         "10",
         "9",
         "2018-11-19",
         "0.1",
         "1",
         "0"
        ],
        [
         "5",
         "5099",
         "Large Cozy 1 BR Apartment In Midtown East",
         "7322",
         "Chris",
         "Manhattan",
         "Murray Hill",
         "40.74767",
         "-73.975",
         "Entire home/apt",
         "200",
         "3",
         "74",
         "2019-06-22",
         "0.59",
         "1",
         "129"
        ],
        [
         "6",
         "5121",
         "BlissArtsSpace!",
         "7356",
         "Garon",
         "Brooklyn",
         "Bedford-Stuyvesant",
         "40.68688",
         "-73.95596",
         "Private room",
         "60",
         "45",
         "49",
         "2017-10-05",
         "0.4",
         "1",
         "0"
        ],
        [
         "7",
         "5178",
         "Large Furnished Room Near B'way ",
         "8967",
         "Shunichi",
         "Manhattan",
         "Hell's Kitchen",
         "40.76489",
         "-73.98493",
         "Private room",
         "79",
         "2",
         "430",
         "2019-06-24",
         "3.47",
         "1",
         "220"
        ],
        [
         "8",
         "5203",
         "Cozy Clean Guest Room - Family Apt",
         "7490",
         "MaryEllen",
         "Manhattan",
         "Upper West Side",
         "40.80178",
         "-73.96723",
         "Private room",
         "79",
         "2",
         "118",
         "2017-07-21",
         "0.99",
         "1",
         "0"
        ],
        [
         "9",
         "5238",
         "Cute & Cozy Lower East Side 1 bdrm",
         "7549",
         "Ben",
         "Manhattan",
         "Chinatown",
         "40.71344",
         "-73.99037",
         "Entire home/apt",
         "150",
         "1",
         "160",
         "2019-06-09",
         "1.33",
         "4",
         "188"
        ],
        [
         "10",
         "5295",
         "Beautiful 1br on Upper West Side",
         "7702",
         "Lena",
         "Manhattan",
         "Upper West Side",
         "40.80316",
         "-73.96545",
         "Entire home/apt",
         "135",
         "5",
         "53",
         "2019-06-22",
         "0.43",
         "1",
         "6"
        ],
        [
         "11",
         "5441",
         "Central Manhattan/near Broadway",
         "7989",
         "Kate",
         "Manhattan",
         "Hell's Kitchen",
         "40.76076",
         "-73.98867",
         "Private room",
         "85",
         "2",
         "188",
         "2019-06-23",
         "1.5",
         "1",
         "39"
        ],
        [
         "12",
         "5803",
         "Lovely Room 1, Garden, Best Area, Legal rental",
         "9744",
         "Laurie",
         "Brooklyn",
         "South Slope",
         "40.66829",
         "-73.98779",
         "Private room",
         "89",
         "4",
         "167",
         "2019-06-24",
         "1.34",
         "3",
         "314"
        ],
        [
         "13",
         "6021",
         "Wonderful Guest Bedroom in Manhattan for SINGLES",
         "11528",
         "Claudio",
         "Manhattan",
         "Upper West Side",
         "40.79826",
         "-73.96113",
         "Private room",
         "85",
         "2",
         "113",
         "2019-07-05",
         "0.91",
         "1",
         "333"
        ],
        [
         "14",
         "6090",
         "West Village Nest - Superhost",
         "11975",
         "Alina",
         "Manhattan",
         "West Village",
         "40.7353",
         "-74.00525",
         "Entire home/apt",
         "120",
         "90",
         "27",
         "2018-10-31",
         "0.22",
         "1",
         "0"
        ],
        [
         "15",
         "6848",
         "Only 2 stops to Manhattan studio",
         "15991",
         "Allen & Irina",
         "Brooklyn",
         "Williamsburg",
         "40.70837",
         "-73.95352",
         "Entire home/apt",
         "140",
         "2",
         "148",
         "2019-06-29",
         "1.2",
         "1",
         "46"
        ],
        [
         "16",
         "7097",
         "Perfect for Your Parents + Garden",
         "17571",
         "Jane",
         "Brooklyn",
         "Fort Greene",
         "40.69169",
         "-73.97185",
         "Entire home/apt",
         "215",
         "2",
         "198",
         "2019-06-28",
         "1.72",
         "1",
         "321"
        ],
        [
         "17",
         "7322",
         "Chelsea Perfect",
         "18946",
         "Doti",
         "Manhattan",
         "Chelsea",
         "40.74192",
         "-73.99501",
         "Private room",
         "140",
         "1",
         "260",
         "2019-07-01",
         "2.12",
         "1",
         "12"
        ],
        [
         "18",
         "7726",
         "Hip Historic Brownstone Apartment with Backyard",
         "20950",
         "Adam And Charity",
         "Brooklyn",
         "Crown Heights",
         "40.67592",
         "-73.94694",
         "Entire home/apt",
         "99",
         "3",
         "53",
         "2019-06-22",
         "4.44",
         "1",
         "21"
        ],
        [
         "19",
         "7750",
         "Huge 2 BR Upper East  Cental Park",
         "17985",
         "Sing",
         "Manhattan",
         "East Harlem",
         "40.79685",
         "-73.94872",
         "Entire home/apt",
         "190",
         "7",
         "0",
         null,
         null,
         "2",
         "249"
        ],
        [
         "20",
         "7801",
         "Sweet and Spacious Brooklyn Loft",
         "21207",
         "Chaya",
         "Brooklyn",
         "Williamsburg",
         "40.71842",
         "-73.95718",
         "Entire home/apt",
         "299",
         "3",
         "9",
         "2011-12-28",
         "0.07",
         "1",
         "0"
        ],
        [
         "21",
         "8024",
         "CBG CtyBGd HelpsHaiti rm#1:1-4",
         "22486",
         "Lisel",
         "Brooklyn",
         "Park Slope",
         "40.68069",
         "-73.97706",
         "Private room",
         "130",
         "2",
         "130",
         "2019-07-01",
         "1.09",
         "6",
         "347"
        ],
        [
         "22",
         "8025",
         "CBG Helps Haiti Room#2.5",
         "22486",
         "Lisel",
         "Brooklyn",
         "Park Slope",
         "40.67989",
         "-73.97798",
         "Private room",
         "80",
         "1",
         "39",
         "2019-01-01",
         "0.37",
         "6",
         "364"
        ],
        [
         "23",
         "8110",
         "CBG Helps Haiti Rm #2",
         "22486",
         "Lisel",
         "Brooklyn",
         "Park Slope",
         "40.68001",
         "-73.97865",
         "Private room",
         "110",
         "2",
         "71",
         "2019-07-02",
         "0.61",
         "6",
         "304"
        ],
        [
         "24",
         "8490",
         "MAISON DES SIRENES1,bohemian apartment",
         "25183",
         "Nathalie",
         "Brooklyn",
         "Bedford-Stuyvesant",
         "40.68371",
         "-73.94028",
         "Entire home/apt",
         "120",
         "2",
         "88",
         "2019-06-19",
         "0.73",
         "2",
         "233"
        ],
        [
         "25",
         "8505",
         "Sunny Bedroom Across Prospect Park",
         "25326",
         "Gregory",
         "Brooklyn",
         "Windsor Terrace",
         "40.65599",
         "-73.97519",
         "Private room",
         "60",
         "1",
         "19",
         "2019-06-23",
         "1.37",
         "2",
         "85"
        ],
        [
         "26",
         "8700",
         "Magnifique Suite au N de Manhattan - vue Cloitres",
         "26394",
         "Claude & Sophie",
         "Manhattan",
         "Inwood",
         "40.86754",
         "-73.92639",
         "Private room",
         "80",
         "4",
         "0",
         null,
         null,
         "1",
         "0"
        ],
        [
         "27",
         "9357",
         "Midtown Pied-a-terre",
         "30193",
         "Tommi",
         "Manhattan",
         "Hell's Kitchen",
         "40.76715",
         "-73.98533",
         "Entire home/apt",
         "150",
         "10",
         "58",
         "2017-08-13",
         "0.49",
         "1",
         "75"
        ],
        [
         "28",
         "9518",
         "SPACIOUS, LOVELY FURNISHED MANHATTAN BEDROOM",
         "31374",
         "Shon",
         "Manhattan",
         "Inwood",
         "40.86482",
         "-73.92106",
         "Private room",
         "44",
         "3",
         "108",
         "2019-06-15",
         "1.11",
         "3",
         "311"
        ],
        [
         "29",
         "9657",
         "Modern 1 BR / NYC / EAST VILLAGE",
         "21904",
         "Dana",
         "Manhattan",
         "East Village",
         "40.7292",
         "-73.98542",
         "Entire home/apt",
         "180",
         "14",
         "29",
         "2019-04-19",
         "0.24",
         "1",
         "67"
        ],
        [
         "30",
         "9668",
         "front room/double bed",
         "32294",
         "Ssameer Or Trip",
         "Manhattan",
         "Harlem",
         "40.82245",
         "-73.95104",
         "Private room",
         "50",
         "3",
         "242",
         "2019-06-01",
         "2.04",
         "3",
         "355"
        ],
        [
         "31",
         "9704",
         "Spacious 1 bedroom in luxe building",
         "32045",
         "Teri",
         "Manhattan",
         "Harlem",
         "40.81305",
         "-73.95466",
         "Private room",
         "52",
         "2",
         "88",
         "2019-06-14",
         "1.42",
         "1",
         "255"
        ],
        [
         "32",
         "9782",
         "Loft in Williamsburg Area w/ Roof",
         "32169",
         "Andrea",
         "Brooklyn",
         "Greenpoint",
         "40.72219",
         "-73.93762",
         "Private room",
         "55",
         "4",
         "197",
         "2019-06-15",
         "1.65",
         "3",
         "284"
        ],
        [
         "33",
         "9783",
         "back room/bunk beds",
         "32294",
         "Ssameer Or Trip",
         "Manhattan",
         "Harlem",
         "40.8213",
         "-73.95318",
         "Private room",
         "50",
         "3",
         "273",
         "2019-07-01",
         "2.37",
         "3",
         "359"
        ],
        [
         "34",
         "10452",
         "Large B&B Style rooms",
         "35935",
         "Angela",
         "Brooklyn",
         "Bedford-Stuyvesant",
         "40.6831",
         "-73.95473",
         "Private room",
         "70",
         "1",
         "74",
         "2019-05-12",
         "0.66",
         "2",
         "269"
        ],
        [
         "35",
         "10962",
         "Lovely room 2 & garden; Best area, Legal rental",
         "9744",
         "Laurie",
         "Brooklyn",
         "South Slope",
         "40.66869",
         "-73.9878",
         "Private room",
         "89",
         "4",
         "168",
         "2019-06-21",
         "1.41",
         "3",
         "340"
        ],
        [
         "36",
         "11452",
         "Clean and Quiet in Brooklyn",
         "7355",
         "Vt",
         "Brooklyn",
         "Bedford-Stuyvesant",
         "40.68876",
         "-73.94312",
         "Private room",
         "35",
         "60",
         "0",
         null,
         null,
         "1",
         "365"
        ],
        [
         "37",
         "11708",
         "Cute apt in artist's home",
         "44145",
         "Tyrome",
         "Brooklyn",
         "Bushwick",
         "40.70186",
         "-73.92745",
         "Entire home/apt",
         "85",
         "2",
         "231",
         "2019-06-22",
         "1.96",
         "2",
         "22"
        ],
        [
         "38",
         "11943",
         "Country space in the city",
         "45445",
         "Harriet",
         "Brooklyn",
         "Flatbush",
         "40.63702",
         "-73.96327",
         "Private room",
         "150",
         "1",
         "0",
         null,
         null,
         "1",
         "365"
        ],
        [
         "39",
         "12048",
         "LowerEastSide apt share shortterm 1",
         "7549",
         "Ben",
         "Manhattan",
         "Lower East Side",
         "40.71401",
         "-73.98917",
         "Shared room",
         "40",
         "1",
         "214",
         "2019-07-05",
         "1.81",
         "4",
         "188"
        ],
        [
         "40",
         "12192",
         "ENJOY Downtown NYC!",
         "46978",
         "Edward",
         "Manhattan",
         "East Village",
         "40.7229",
         "-73.98199",
         "Private room",
         "68",
         "2",
         "245",
         "2019-06-21",
         "2.08",
         "2",
         "96"
        ],
        [
         "41",
         "12299",
         "Beautiful Sunny Park Slope Brooklyn",
         "47610",
         "Abdul",
         "Brooklyn",
         "South Slope",
         "40.66278",
         "-73.97966",
         "Entire home/apt",
         "120",
         "3",
         "15",
         "2019-05-27",
         "0.39",
         "1",
         "345"
        ],
        [
         "42",
         "12303",
         "1bdr w private bath. in lofty apt",
         "47618",
         "Yolande",
         "Brooklyn",
         "Fort Greene",
         "40.69673",
         "-73.97584",
         "Private room",
         "120",
         "7",
         "25",
         "2018-09-30",
         "0.23",
         "1",
         "311"
        ],
        [
         "43",
         "12318",
         "West Side Retreat",
         "16800",
         "Cyn",
         "Manhattan",
         "Upper West Side",
         "40.79009",
         "-73.97927",
         "Private room",
         "135",
         "4",
         "81",
         "2019-06-16",
         "0.69",
         "1",
         "273"
        ],
        [
         "44",
         "12343",
         "BEST BET IN HARLEM",
         "47727",
         "Earl",
         "Manhattan",
         "Harlem",
         "40.81175",
         "-73.94478",
         "Entire home/apt",
         "150",
         "7",
         "97",
         "2019-06-13",
         "0.84",
         "1",
         "309"
        ],
        [
         "45",
         "12627",
         "Entire apartment in central Brooklyn neighborhood.",
         "49670",
         "Rana",
         "Brooklyn",
         "Prospect-Lefferts Gardens",
         "40.65944",
         "-73.96238",
         "Entire home/apt",
         "150",
         "29",
         "11",
         "2019-06-05",
         "0.49",
         "1",
         "95"
        ],
        [
         "46",
         "12937",
         "1 Stop fr. Manhattan! Private Suite,Landmark Block",
         "50124",
         "Orestes",
         "Queens",
         "Long Island City",
         "40.74771",
         "-73.9474",
         "Private room",
         "130",
         "3",
         "248",
         "2019-07-01",
         "2.25",
         "1",
         "215"
        ],
        [
         "47",
         "12940",
         "Charming Brownstone 3 - Near PRATT",
         "50148",
         "Adreinne",
         "Brooklyn",
         "Bedford-Stuyvesant",
         "40.68111",
         "-73.95591",
         "Entire home/apt",
         "110",
         "7",
         "61",
         "2019-05-25",
         "0.52",
         "1",
         "265"
        ],
        [
         "48",
         "13050",
         "bright and stylish duplex",
         "50846",
         "Jennifer",
         "Brooklyn",
         "Bedford-Stuyvesant",
         "40.68554",
         "-73.9409",
         "Entire home/apt",
         "115",
         "3",
         "11",
         "2017-01-01",
         "0.1",
         "1",
         "0"
        ],
        [
         "49",
         "13394",
         "Fort Greene brownstone ",
         "52335",
         "Alexander",
         "Brooklyn",
         "Fort Greene",
         "40.69142",
         "-73.97376",
         "Private room",
         "80",
         "3",
         "135",
         "2019-06-17",
         "1.16",
         "2",
         "192"
        ]
       ],
       "shape": {
        "columns": 16,
        "rows": 48895
       }
      },
      "text/html": [
       "<div>\n",
       "<style scoped>\n",
       "    .dataframe tbody tr th:only-of-type {\n",
       "        vertical-align: middle;\n",
       "    }\n",
       "\n",
       "    .dataframe tbody tr th {\n",
       "        vertical-align: top;\n",
       "    }\n",
       "\n",
       "    .dataframe thead th {\n",
       "        text-align: right;\n",
       "    }\n",
       "</style>\n",
       "<table border=\"1\" class=\"dataframe\">\n",
       "  <thead>\n",
       "    <tr style=\"text-align: right;\">\n",
       "      <th></th>\n",
       "      <th>id</th>\n",
       "      <th>name</th>\n",
       "      <th>host_id</th>\n",
       "      <th>host_name</th>\n",
       "      <th>neighbourhood_group</th>\n",
       "      <th>neighbourhood</th>\n",
       "      <th>latitude</th>\n",
       "      <th>longitude</th>\n",
       "      <th>room_type</th>\n",
       "      <th>price</th>\n",
       "      <th>minimum_nights</th>\n",
       "      <th>number_of_reviews</th>\n",
       "      <th>last_review</th>\n",
       "      <th>reviews_per_month</th>\n",
       "      <th>calculated_host_listings_count</th>\n",
       "      <th>availability_365</th>\n",
       "    </tr>\n",
       "  </thead>\n",
       "  <tbody>\n",
       "    <tr>\n",
       "      <th>0</th>\n",
       "      <td>2539</td>\n",
       "      <td>Clean &amp; quiet apt home by the park</td>\n",
       "      <td>2787</td>\n",
       "      <td>John</td>\n",
       "      <td>Brooklyn</td>\n",
       "      <td>Kensington</td>\n",
       "      <td>40.64749</td>\n",
       "      <td>-73.97237</td>\n",
       "      <td>Private room</td>\n",
       "      <td>149</td>\n",
       "      <td>1</td>\n",
       "      <td>9</td>\n",
       "      <td>2018-10-19</td>\n",
       "      <td>0.21</td>\n",
       "      <td>6</td>\n",
       "      <td>365</td>\n",
       "    </tr>\n",
       "    <tr>\n",
       "      <th>1</th>\n",
       "      <td>2595</td>\n",
       "      <td>Skylit Midtown Castle</td>\n",
       "      <td>2845</td>\n",
       "      <td>Jennifer</td>\n",
       "      <td>Manhattan</td>\n",
       "      <td>Midtown</td>\n",
       "      <td>40.75362</td>\n",
       "      <td>-73.98377</td>\n",
       "      <td>Entire home/apt</td>\n",
       "      <td>225</td>\n",
       "      <td>1</td>\n",
       "      <td>45</td>\n",
       "      <td>2019-05-21</td>\n",
       "      <td>0.38</td>\n",
       "      <td>2</td>\n",
       "      <td>355</td>\n",
       "    </tr>\n",
       "    <tr>\n",
       "      <th>2</th>\n",
       "      <td>3647</td>\n",
       "      <td>THE VILLAGE OF HARLEM....NEW YORK !</td>\n",
       "      <td>4632</td>\n",
       "      <td>Elisabeth</td>\n",
       "      <td>Manhattan</td>\n",
       "      <td>Harlem</td>\n",
       "      <td>40.80902</td>\n",
       "      <td>-73.94190</td>\n",
       "      <td>Private room</td>\n",
       "      <td>150</td>\n",
       "      <td>3</td>\n",
       "      <td>0</td>\n",
       "      <td>NaN</td>\n",
       "      <td>NaN</td>\n",
       "      <td>1</td>\n",
       "      <td>365</td>\n",
       "    </tr>\n",
       "    <tr>\n",
       "      <th>3</th>\n",
       "      <td>3831</td>\n",
       "      <td>Cozy Entire Floor of Brownstone</td>\n",
       "      <td>4869</td>\n",
       "      <td>LisaRoxanne</td>\n",
       "      <td>Brooklyn</td>\n",
       "      <td>Clinton Hill</td>\n",
       "      <td>40.68514</td>\n",
       "      <td>-73.95976</td>\n",
       "      <td>Entire home/apt</td>\n",
       "      <td>89</td>\n",
       "      <td>1</td>\n",
       "      <td>270</td>\n",
       "      <td>2019-07-05</td>\n",
       "      <td>4.64</td>\n",
       "      <td>1</td>\n",
       "      <td>194</td>\n",
       "    </tr>\n",
       "    <tr>\n",
       "      <th>4</th>\n",
       "      <td>5022</td>\n",
       "      <td>Entire Apt: Spacious Studio/Loft by central park</td>\n",
       "      <td>7192</td>\n",
       "      <td>Laura</td>\n",
       "      <td>Manhattan</td>\n",
       "      <td>East Harlem</td>\n",
       "      <td>40.79851</td>\n",
       "      <td>-73.94399</td>\n",
       "      <td>Entire home/apt</td>\n",
       "      <td>80</td>\n",
       "      <td>10</td>\n",
       "      <td>9</td>\n",
       "      <td>2018-11-19</td>\n",
       "      <td>0.10</td>\n",
       "      <td>1</td>\n",
       "      <td>0</td>\n",
       "    </tr>\n",
       "    <tr>\n",
       "      <th>...</th>\n",
       "      <td>...</td>\n",
       "      <td>...</td>\n",
       "      <td>...</td>\n",
       "      <td>...</td>\n",
       "      <td>...</td>\n",
       "      <td>...</td>\n",
       "      <td>...</td>\n",
       "      <td>...</td>\n",
       "      <td>...</td>\n",
       "      <td>...</td>\n",
       "      <td>...</td>\n",
       "      <td>...</td>\n",
       "      <td>...</td>\n",
       "      <td>...</td>\n",
       "      <td>...</td>\n",
       "      <td>...</td>\n",
       "    </tr>\n",
       "    <tr>\n",
       "      <th>48890</th>\n",
       "      <td>36484665</td>\n",
       "      <td>Charming one bedroom - newly renovated rowhouse</td>\n",
       "      <td>8232441</td>\n",
       "      <td>Sabrina</td>\n",
       "      <td>Brooklyn</td>\n",
       "      <td>Bedford-Stuyvesant</td>\n",
       "      <td>40.67853</td>\n",
       "      <td>-73.94995</td>\n",
       "      <td>Private room</td>\n",
       "      <td>70</td>\n",
       "      <td>2</td>\n",
       "      <td>0</td>\n",
       "      <td>NaN</td>\n",
       "      <td>NaN</td>\n",
       "      <td>2</td>\n",
       "      <td>9</td>\n",
       "    </tr>\n",
       "    <tr>\n",
       "      <th>48891</th>\n",
       "      <td>36485057</td>\n",
       "      <td>Affordable room in Bushwick/East Williamsburg</td>\n",
       "      <td>6570630</td>\n",
       "      <td>Marisol</td>\n",
       "      <td>Brooklyn</td>\n",
       "      <td>Bushwick</td>\n",
       "      <td>40.70184</td>\n",
       "      <td>-73.93317</td>\n",
       "      <td>Private room</td>\n",
       "      <td>40</td>\n",
       "      <td>4</td>\n",
       "      <td>0</td>\n",
       "      <td>NaN</td>\n",
       "      <td>NaN</td>\n",
       "      <td>2</td>\n",
       "      <td>36</td>\n",
       "    </tr>\n",
       "    <tr>\n",
       "      <th>48892</th>\n",
       "      <td>36485431</td>\n",
       "      <td>Sunny Studio at Historical Neighborhood</td>\n",
       "      <td>23492952</td>\n",
       "      <td>Ilgar &amp; Aysel</td>\n",
       "      <td>Manhattan</td>\n",
       "      <td>Harlem</td>\n",
       "      <td>40.81475</td>\n",
       "      <td>-73.94867</td>\n",
       "      <td>Entire home/apt</td>\n",
       "      <td>115</td>\n",
       "      <td>10</td>\n",
       "      <td>0</td>\n",
       "      <td>NaN</td>\n",
       "      <td>NaN</td>\n",
       "      <td>1</td>\n",
       "      <td>27</td>\n",
       "    </tr>\n",
       "    <tr>\n",
       "      <th>48893</th>\n",
       "      <td>36485609</td>\n",
       "      <td>43rd St. Time Square-cozy single bed</td>\n",
       "      <td>30985759</td>\n",
       "      <td>Taz</td>\n",
       "      <td>Manhattan</td>\n",
       "      <td>Hell's Kitchen</td>\n",
       "      <td>40.75751</td>\n",
       "      <td>-73.99112</td>\n",
       "      <td>Shared room</td>\n",
       "      <td>55</td>\n",
       "      <td>1</td>\n",
       "      <td>0</td>\n",
       "      <td>NaN</td>\n",
       "      <td>NaN</td>\n",
       "      <td>6</td>\n",
       "      <td>2</td>\n",
       "    </tr>\n",
       "    <tr>\n",
       "      <th>48894</th>\n",
       "      <td>36487245</td>\n",
       "      <td>Trendy duplex in the very heart of Hell's Kitchen</td>\n",
       "      <td>68119814</td>\n",
       "      <td>Christophe</td>\n",
       "      <td>Manhattan</td>\n",
       "      <td>Hell's Kitchen</td>\n",
       "      <td>40.76404</td>\n",
       "      <td>-73.98933</td>\n",
       "      <td>Private room</td>\n",
       "      <td>90</td>\n",
       "      <td>7</td>\n",
       "      <td>0</td>\n",
       "      <td>NaN</td>\n",
       "      <td>NaN</td>\n",
       "      <td>1</td>\n",
       "      <td>23</td>\n",
       "    </tr>\n",
       "  </tbody>\n",
       "</table>\n",
       "<p>48895 rows × 16 columns</p>\n",
       "</div>"
      ],
      "text/plain": [
       "             id                                               name   host_id  \\\n",
       "0          2539                 Clean & quiet apt home by the park      2787   \n",
       "1          2595                              Skylit Midtown Castle      2845   \n",
       "2          3647                THE VILLAGE OF HARLEM....NEW YORK !      4632   \n",
       "3          3831                    Cozy Entire Floor of Brownstone      4869   \n",
       "4          5022   Entire Apt: Spacious Studio/Loft by central park      7192   \n",
       "...         ...                                                ...       ...   \n",
       "48890  36484665    Charming one bedroom - newly renovated rowhouse   8232441   \n",
       "48891  36485057      Affordable room in Bushwick/East Williamsburg   6570630   \n",
       "48892  36485431            Sunny Studio at Historical Neighborhood  23492952   \n",
       "48893  36485609               43rd St. Time Square-cozy single bed  30985759   \n",
       "48894  36487245  Trendy duplex in the very heart of Hell's Kitchen  68119814   \n",
       "\n",
       "           host_name neighbourhood_group       neighbourhood  latitude  \\\n",
       "0               John            Brooklyn          Kensington  40.64749   \n",
       "1           Jennifer           Manhattan             Midtown  40.75362   \n",
       "2          Elisabeth           Manhattan              Harlem  40.80902   \n",
       "3        LisaRoxanne            Brooklyn        Clinton Hill  40.68514   \n",
       "4              Laura           Manhattan         East Harlem  40.79851   \n",
       "...              ...                 ...                 ...       ...   \n",
       "48890        Sabrina            Brooklyn  Bedford-Stuyvesant  40.67853   \n",
       "48891        Marisol            Brooklyn            Bushwick  40.70184   \n",
       "48892  Ilgar & Aysel           Manhattan              Harlem  40.81475   \n",
       "48893            Taz           Manhattan      Hell's Kitchen  40.75751   \n",
       "48894     Christophe           Manhattan      Hell's Kitchen  40.76404   \n",
       "\n",
       "       longitude        room_type  price  minimum_nights  number_of_reviews  \\\n",
       "0      -73.97237     Private room    149               1                  9   \n",
       "1      -73.98377  Entire home/apt    225               1                 45   \n",
       "2      -73.94190     Private room    150               3                  0   \n",
       "3      -73.95976  Entire home/apt     89               1                270   \n",
       "4      -73.94399  Entire home/apt     80              10                  9   \n",
       "...          ...              ...    ...             ...                ...   \n",
       "48890  -73.94995     Private room     70               2                  0   \n",
       "48891  -73.93317     Private room     40               4                  0   \n",
       "48892  -73.94867  Entire home/apt    115              10                  0   \n",
       "48893  -73.99112      Shared room     55               1                  0   \n",
       "48894  -73.98933     Private room     90               7                  0   \n",
       "\n",
       "      last_review  reviews_per_month  calculated_host_listings_count  \\\n",
       "0      2018-10-19               0.21                               6   \n",
       "1      2019-05-21               0.38                               2   \n",
       "2             NaN                NaN                               1   \n",
       "3      2019-07-05               4.64                               1   \n",
       "4      2018-11-19               0.10                               1   \n",
       "...           ...                ...                             ...   \n",
       "48890         NaN                NaN                               2   \n",
       "48891         NaN                NaN                               2   \n",
       "48892         NaN                NaN                               1   \n",
       "48893         NaN                NaN                               6   \n",
       "48894         NaN                NaN                               1   \n",
       "\n",
       "       availability_365  \n",
       "0                   365  \n",
       "1                   355  \n",
       "2                   365  \n",
       "3                   194  \n",
       "4                     0  \n",
       "...                 ...  \n",
       "48890                 9  \n",
       "48891                36  \n",
       "48892                27  \n",
       "48893                 2  \n",
       "48894                23  \n",
       "\n",
       "[48895 rows x 16 columns]"
      ]
     },
     "execution_count": 106,
     "metadata": {},
     "output_type": "execute_result"
    }
   ],
   "source": [
    "df = data.copy()\n",
    "df"
   ]
  },
  {
   "cell_type": "code",
   "execution_count": null,
   "metadata": {},
   "outputs": [
    {
     "name": "stdout",
     "output_type": "stream",
     "text": [
      "<class 'pandas.core.frame.DataFrame'>\n",
      "RangeIndex: 48895 entries, 0 to 48894\n",
      "Data columns (total 16 columns):\n",
      " #   Column                          Non-Null Count  Dtype  \n",
      "---  ------                          --------------  -----  \n",
      " 0   id                              48895 non-null  int64  \n",
      " 1   name                            48879 non-null  object \n",
      " 2   host_id                         48895 non-null  int64  \n",
      " 3   host_name                       48874 non-null  object \n",
      " 4   neighbourhood_group             48895 non-null  object \n",
      " 5   neighbourhood                   48895 non-null  object \n",
      " 6   latitude                        48895 non-null  float64\n",
      " 7   longitude                       48895 non-null  float64\n",
      " 8   room_type                       48895 non-null  object \n",
      " 9   price                           48895 non-null  int64  \n",
      " 10  minimum_nights                  48895 non-null  int64  \n",
      " 11  number_of_reviews               48895 non-null  int64  \n",
      " 12  last_review                     38843 non-null  object \n",
      " 13  reviews_per_month               38843 non-null  float64\n",
      " 14  calculated_host_listings_count  48895 non-null  int64  \n",
      " 15  availability_365                48895 non-null  int64  \n",
      "dtypes: float64(3), int64(7), object(6)\n",
      "memory usage: 6.0+ MB\n"
     ]
    }
   ],
   "source": [
    "#checking the datatype of all the columns\n",
    "df.info()\n",
    "\n",
    "# the object data type in pandas usually represents string (text) data. \n",
    "# However, it can also contain mixed types, including numbers stored as strings."
   ]
  },
  {
   "cell_type": "code",
   "execution_count": 125,
   "metadata": {},
   "outputs": [
    {
     "name": "stdout",
     "output_type": "stream",
     "text": [
      "<class 'pandas.core.frame.DataFrame'>\n",
      "RangeIndex: 48895 entries, 0 to 48894\n",
      "Data columns (total 16 columns):\n",
      " #   Column                          Non-Null Count  Dtype         \n",
      "---  ------                          --------------  -----         \n",
      " 0   id                              48895 non-null  object        \n",
      " 1   name                            48879 non-null  object        \n",
      " 2   host_id                         48895 non-null  object        \n",
      " 3   host_name                       48874 non-null  object        \n",
      " 4   neighbourhood_group             48895 non-null  object        \n",
      " 5   neighbourhood                   48895 non-null  object        \n",
      " 6   latitude                        48895 non-null  float64       \n",
      " 7   longitude                       48895 non-null  float64       \n",
      " 8   room_type                       48895 non-null  object        \n",
      " 9   price                           48895 non-null  object        \n",
      " 10  minimum_nights                  48895 non-null  int64         \n",
      " 11  number_of_reviews               48895 non-null  int64         \n",
      " 12  last_review                     38843 non-null  datetime64[ns]\n",
      " 13  reviews_per_month               38843 non-null  float64       \n",
      " 14  calculated_host_listings_count  48895 non-null  int64         \n",
      " 15  availability_365                48895 non-null  int64         \n",
      "dtypes: datetime64[ns](1), float64(3), int64(4), object(8)\n",
      "memory usage: 6.0+ MB\n"
     ]
    }
   ],
   "source": [
    "#using astype()\n",
    "df[\"id\"] = df['id'].astype(\"str\")\n",
    "df[\"host_id\"] = df[\"host_id\"].astype(\"object\")\n",
    "df[\"price\"] = df[\"price\"].astype(\"object\")\n",
    "df[\"last_review\"] =  pd.to_datetime(df[\"last_review\"])\n",
    "df.info()"
   ]
  },
  {
   "cell_type": "code",
   "execution_count": null,
   "metadata": {},
   "outputs": [],
   "source": []
  }
 ],
 "metadata": {
  "kernelspec": {
   "display_name": "Python 3",
   "language": "python",
   "name": "python3"
  },
  "language_info": {
   "codemirror_mode": {
    "name": "ipython",
    "version": 3
   },
   "file_extension": ".py",
   "mimetype": "text/x-python",
   "name": "python",
   "nbconvert_exporter": "python",
   "pygments_lexer": "ipython3",
   "version": "3.12.0"
  }
 },
 "nbformat": 4,
 "nbformat_minor": 2
}
